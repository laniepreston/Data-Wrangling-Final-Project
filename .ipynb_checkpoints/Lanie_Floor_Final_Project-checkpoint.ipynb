{
 "cells": [
  {
   "cell_type": "markdown",
   "metadata": {},
   "source": [
    "# Data Wrangling January 2020 #\n",
    "## Lanie Preston & Floor Kouwenberg ##"
   ]
  },
  {
   "cell_type": "markdown",
   "metadata": {},
   "source": [
    "Lanie Preston (VU Student Nr: 2629403)\n",
    "\n",
    "Floor Kouwenberg (VU Student Nr: 2618232)"
   ]
  },
  {
   "cell_type": "code",
   "execution_count": 2,
   "metadata": {},
   "outputs": [],
   "source": [
    "#read in libraries\n",
    "import numpy as np\n",
    "import pandas as pd\n",
    "import matplotlib.pyplot as plt\n",
    "import requests\n",
    "from bs4 import BeautifulSoup\n"
   ]
  },
  {
   "cell_type": "markdown",
   "metadata": {},
   "source": [
    "## Data on USA Dairy Production per Year and Quarter ## "
   ]
  },
  {
   "cell_type": "code",
   "execution_count": 67,
   "metadata": {},
   "outputs": [],
   "source": [
    "us_dairy_production = pd.read_excel('annualmilkprodfactors.xlsx', index_col=0)\n",
    "us_dairy_production = us_dairy_production.dropna(axis=0)\n",
    "milk_production =  us_dairy_production[['Milk production']]"
   ]
  },
  {
   "cell_type": "markdown",
   "metadata": {},
   "source": [
    "## Data on Party Divisions per Year ##"
   ]
  },
  {
   "cell_type": "code",
   "execution_count": 206,
   "metadata": {},
   "outputs": [
    {
     "data": {
      "text/html": [
       "<div>\n",
       "<style scoped>\n",
       "    .dataframe tbody tr th:only-of-type {\n",
       "        vertical-align: middle;\n",
       "    }\n",
       "\n",
       "    .dataframe tbody tr th {\n",
       "        vertical-align: top;\n",
       "    }\n",
       "\n",
       "    .dataframe thead th {\n",
       "        text-align: right;\n",
       "    }\n",
       "</style>\n",
       "<table border=\"1\" class=\"dataframe\">\n",
       "  <thead>\n",
       "    <tr style=\"text-align: right;\">\n",
       "      <th></th>\n",
       "      <th>Democrats</th>\n",
       "      <th>Republicans</th>\n",
       "      <th>Other</th>\n",
       "    </tr>\n",
       "  </thead>\n",
       "  <tbody>\n",
       "    <tr>\n",
       "      <th>1987</th>\n",
       "      <td>55</td>\n",
       "      <td>45</td>\n",
       "      <td>—</td>\n",
       "    </tr>\n",
       "    <tr>\n",
       "      <th>1988</th>\n",
       "      <td>55</td>\n",
       "      <td>45</td>\n",
       "      <td>—</td>\n",
       "    </tr>\n",
       "    <tr>\n",
       "      <th>1989</th>\n",
       "      <td>55</td>\n",
       "      <td>45</td>\n",
       "      <td>—</td>\n",
       "    </tr>\n",
       "    <tr>\n",
       "      <th>1990</th>\n",
       "      <td>55</td>\n",
       "      <td>45</td>\n",
       "      <td>—</td>\n",
       "    </tr>\n",
       "    <tr>\n",
       "      <th>1991</th>\n",
       "      <td>56</td>\n",
       "      <td>44</td>\n",
       "      <td>—</td>\n",
       "    </tr>\n",
       "    <tr>\n",
       "      <th>1992</th>\n",
       "      <td>56</td>\n",
       "      <td>44</td>\n",
       "      <td>—</td>\n",
       "    </tr>\n",
       "    <tr>\n",
       "      <th>1993</th>\n",
       "      <td>57</td>\n",
       "      <td>43</td>\n",
       "      <td>—</td>\n",
       "    </tr>\n",
       "    <tr>\n",
       "      <th>1994</th>\n",
       "      <td>57</td>\n",
       "      <td>43</td>\n",
       "      <td>—</td>\n",
       "    </tr>\n",
       "    <tr>\n",
       "      <th>1995</th>\n",
       "      <td>47</td>\n",
       "      <td>53</td>\n",
       "      <td>—</td>\n",
       "    </tr>\n",
       "    <tr>\n",
       "      <th>1996</th>\n",
       "      <td>47</td>\n",
       "      <td>53</td>\n",
       "      <td>—</td>\n",
       "    </tr>\n",
       "    <tr>\n",
       "      <th>1997</th>\n",
       "      <td>45</td>\n",
       "      <td>55</td>\n",
       "      <td>—</td>\n",
       "    </tr>\n",
       "    <tr>\n",
       "      <th>1998</th>\n",
       "      <td>45</td>\n",
       "      <td>55</td>\n",
       "      <td>—</td>\n",
       "    </tr>\n",
       "    <tr>\n",
       "      <th>1999</th>\n",
       "      <td>45</td>\n",
       "      <td>55</td>\n",
       "      <td>—</td>\n",
       "    </tr>\n",
       "    <tr>\n",
       "      <th>2000</th>\n",
       "      <td>45</td>\n",
       "      <td>55</td>\n",
       "      <td>—</td>\n",
       "    </tr>\n",
       "    <tr>\n",
       "      <th>2001</th>\n",
       "      <td>50</td>\n",
       "      <td>50</td>\n",
       "      <td>0</td>\n",
       "    </tr>\n",
       "    <tr>\n",
       "      <th>2002</th>\n",
       "      <td>50</td>\n",
       "      <td>50</td>\n",
       "      <td>0</td>\n",
       "    </tr>\n",
       "    <tr>\n",
       "      <th>2003</th>\n",
       "      <td>48</td>\n",
       "      <td>51</td>\n",
       "      <td>1</td>\n",
       "    </tr>\n",
       "    <tr>\n",
       "      <th>2004</th>\n",
       "      <td>48</td>\n",
       "      <td>51</td>\n",
       "      <td>1</td>\n",
       "    </tr>\n",
       "    <tr>\n",
       "      <th>2005</th>\n",
       "      <td>44</td>\n",
       "      <td>55</td>\n",
       "      <td>1</td>\n",
       "    </tr>\n",
       "    <tr>\n",
       "      <th>2006</th>\n",
       "      <td>44</td>\n",
       "      <td>55</td>\n",
       "      <td>1</td>\n",
       "    </tr>\n",
       "    <tr>\n",
       "      <th>2007</th>\n",
       "      <td>49</td>\n",
       "      <td>49</td>\n",
       "      <td>2</td>\n",
       "    </tr>\n",
       "    <tr>\n",
       "      <th>2008</th>\n",
       "      <td>49</td>\n",
       "      <td>49</td>\n",
       "      <td>2</td>\n",
       "    </tr>\n",
       "    <tr>\n",
       "      <th>2009</th>\n",
       "      <td>56</td>\n",
       "      <td>40</td>\n",
       "      <td>2</td>\n",
       "    </tr>\n",
       "    <tr>\n",
       "      <th>2010</th>\n",
       "      <td>56</td>\n",
       "      <td>40</td>\n",
       "      <td>2</td>\n",
       "    </tr>\n",
       "    <tr>\n",
       "      <th>2011</th>\n",
       "      <td>51</td>\n",
       "      <td>47</td>\n",
       "      <td>2</td>\n",
       "    </tr>\n",
       "    <tr>\n",
       "      <th>2012</th>\n",
       "      <td>51</td>\n",
       "      <td>47</td>\n",
       "      <td>2</td>\n",
       "    </tr>\n",
       "    <tr>\n",
       "      <th>2013</th>\n",
       "      <td>53</td>\n",
       "      <td>45</td>\n",
       "      <td>2</td>\n",
       "    </tr>\n",
       "    <tr>\n",
       "      <th>2014</th>\n",
       "      <td>53</td>\n",
       "      <td>45</td>\n",
       "      <td>2</td>\n",
       "    </tr>\n",
       "    <tr>\n",
       "      <th>2015</th>\n",
       "      <td>44</td>\n",
       "      <td>54</td>\n",
       "      <td>2</td>\n",
       "    </tr>\n",
       "    <tr>\n",
       "      <th>2016</th>\n",
       "      <td>44</td>\n",
       "      <td>54</td>\n",
       "      <td>2</td>\n",
       "    </tr>\n",
       "    <tr>\n",
       "      <th>2017</th>\n",
       "      <td>46</td>\n",
       "      <td>52</td>\n",
       "      <td>2</td>\n",
       "    </tr>\n",
       "    <tr>\n",
       "      <th>2018</th>\n",
       "      <td>46</td>\n",
       "      <td>52</td>\n",
       "      <td>2</td>\n",
       "    </tr>\n",
       "    <tr>\n",
       "      <th>2019</th>\n",
       "      <td>45</td>\n",
       "      <td>53</td>\n",
       "      <td>2</td>\n",
       "    </tr>\n",
       "    <tr>\n",
       "      <th>2020</th>\n",
       "      <td>45</td>\n",
       "      <td>53</td>\n",
       "      <td>2</td>\n",
       "    </tr>\n",
       "  </tbody>\n",
       "</table>\n",
       "</div>"
      ],
      "text/plain": [
       "      Democrats  Republicans Other\n",
       "1987         55           45     —\n",
       "1988         55           45     —\n",
       "1989         55           45     —\n",
       "1990         55           45     —\n",
       "1991         56           44     —\n",
       "1992         56           44     —\n",
       "1993         57           43     —\n",
       "1994         57           43     —\n",
       "1995         47           53     —\n",
       "1996         47           53     —\n",
       "1997         45           55     —\n",
       "1998         45           55     —\n",
       "1999         45           55     —\n",
       "2000         45           55     —\n",
       "2001         50           50     0\n",
       "2002         50           50     0\n",
       "2003         48           51     1\n",
       "2004         48           51     1\n",
       "2005         44           55     1\n",
       "2006         44           55     1\n",
       "2007         49           49     2\n",
       "2008         49           49     2\n",
       "2009         56           40     2\n",
       "2010         56           40     2\n",
       "2011         51           47     2\n",
       "2012         51           47     2\n",
       "2013         53           45     2\n",
       "2014         53           45     2\n",
       "2015         44           54     2\n",
       "2016         44           54     2\n",
       "2017         46           52     2\n",
       "2018         46           52     2\n",
       "2019         45           53     2\n",
       "2020         45           53     2"
      ]
     },
     "execution_count": 206,
     "metadata": {},
     "output_type": "execute_result"
    }
   ],
   "source": [
    "#seats per party per year \n",
    "senate_division = pd.read_html(\"https://en.wikipedia.org/wiki/Party_divisions_of_United_States_Congresses\")[0].iloc[1100:1117]\n",
    "\n",
    "#Selecting the right columns from the table. Also renaming the columns and removing the multi-index\n",
    "senate_division = senate_division[[\"Years\",\"Senate\"]]\n",
    "senate_division.columns = senate_division.columns.droplevel(0)\n",
    "senate_division = senate_division.drop(['Others', 'Vacancies'], axis=1)\n",
    "senate_division = senate_division.rename({\"Total\": \"Democrats\", \"Anti-Admin[2]\": \"Republicans\", \"Pro-Admin[3]\": \"Other\"}, axis='columns')\n",
    "\n",
    "#Casting the values as integers\n",
    "senate_division[\"Democrats\"] = senate_division[\"Democrats\"].astype(str).str[0:2].astype(int)\n",
    "senate_division[\"Republicans\"] = senate_division[\"Republicans\"].astype(str).str[0:2].astype(int)\n",
    "senate_division[\"Other\"] = senate_division[\"Other\"].astype(str).str[0]\n",
    "senate_division = senate_division.set_index(\"Years\")\n",
    "\n",
    "senate_division_per_year = pd.DataFrame(index=[], columns=senate_division.columns)\n",
    "\n",
    "#Creating an annual table that states the division per year\n",
    "for index, row in senate_division.iterrows():\n",
    "    row.name = int(index.split(\"–\")[0])\n",
    "    senate_division_per_year = senate_division_per_year.append(row)\n",
    "    row.name = row.name+1\n",
    "    senate_division_per_year = senate_division_per_year.append(row)\n",
    "    \n",
    "senate_division_per_year = senate_division_per_year.fillna(0)\n",
    "senate_division_per_year"
   ]
  },
  {
   "cell_type": "markdown",
   "metadata": {},
   "source": [
    "## Data on Dollar Amounts of Subsudies paid to Dairy Farmers by the US Government ##"
   ]
  },
  {
   "cell_type": "code",
   "execution_count": 73,
   "metadata": {},
   "outputs": [],
   "source": [
    "#government payouts by program\n",
    "#read in separate excel files \n",
    "payouts2010 = pd.read_excel('GP_PaymentsUSA2010.xlsx')\n",
    "payouts2000 = pd.read_excel('GP_PaymentsUSA2000.xlsx')\n",
    "payouts1990 = pd.read_excel('GP_PaymentsUSA1990.xlsx')\n",
    "\n",
    "#give all dfs sensible column names \n",
    "def clean_df(df):\n",
    "    if 'Unnamed: 4' in list(df):\n",
    "        del df['Unnamed: 4']\n",
    "    df.rename(columns= {'Unnamed: 0': 'Program'}, inplace=True)\n",
    "    df.rename(columns= {'United States': 'Program'}, inplace=True)\n",
    "    return df\n",
    "\n",
    "#clean all dataframes for merging \n",
    "payouts1990 = clean_df(payouts1990)\n",
    "payouts2000 = clean_df(payouts2000)\n",
    "payouts2010 = clean_df(payouts2010)\n",
    "#payouts2000[payouts2000.select_dtypes(include=['number']).columns] *= 1000\n",
    "#payouts2010[payouts2010.select_dtypes(include=['number']).columns] *= 1000\n",
    "#payouts1990[payouts1990.select_dtypes(include=['number']).columns] *= 1000\n",
    "\n",
    "\n",
    "payouts_early = pd.merge(payouts1990, payouts2000, how='outer')\n",
    "payouts_early = payouts_early.drop([1990, 1991, 1992, 1993, 1994, 1995, 1996, 1997], axis=1)\n",
    "all_payouts = pd.merge(payouts_early, payouts2010, how='outer')\n",
    "search_values = ['dairy','milk']\n",
    "dairy_payouts = all_payouts[all_payouts['Program'].str.contains('|'.join(search_values),  na=False, case=False)]\n",
    "dairy_payouts = dairy_payouts.set_index('Program')\n",
    "dairy_payouts.columns = dairy_payouts.columns.map(int)"
   ]
  },
  {
   "cell_type": "code",
   "execution_count": 74,
   "metadata": {},
   "outputs": [
    {
     "data": {
      "text/html": [
       "<div>\n",
       "<style scoped>\n",
       "    .dataframe tbody tr th:only-of-type {\n",
       "        vertical-align: middle;\n",
       "    }\n",
       "\n",
       "    .dataframe tbody tr th {\n",
       "        vertical-align: top;\n",
       "    }\n",
       "\n",
       "    .dataframe thead th {\n",
       "        text-align: right;\n",
       "    }\n",
       "</style>\n",
       "<table border=\"1\" class=\"dataframe\">\n",
       "  <thead>\n",
       "    <tr style=\"text-align: right;\">\n",
       "      <th></th>\n",
       "      <th>1998</th>\n",
       "      <th>1999</th>\n",
       "      <th>2000</th>\n",
       "      <th>2001</th>\n",
       "      <th>2002</th>\n",
       "      <th>2003</th>\n",
       "      <th>2004</th>\n",
       "      <th>2005</th>\n",
       "      <th>2006</th>\n",
       "      <th>2007</th>\n",
       "      <th>...</th>\n",
       "      <th>2010</th>\n",
       "      <th>2011</th>\n",
       "      <th>2012</th>\n",
       "      <th>2013</th>\n",
       "      <th>2014</th>\n",
       "      <th>2015</th>\n",
       "      <th>2016</th>\n",
       "      <th>2017</th>\n",
       "      <th>2018</th>\n",
       "      <th>2019</th>\n",
       "    </tr>\n",
       "  </thead>\n",
       "  <tbody>\n",
       "    <tr>\n",
       "      <th>Milk income loss payments</th>\n",
       "      <td>0.0</td>\n",
       "      <td>0.0</td>\n",
       "      <td>0.0</td>\n",
       "      <td>0.0</td>\n",
       "      <td>859642.0</td>\n",
       "      <td>913317.0</td>\n",
       "      <td>205677.0</td>\n",
       "      <td>9587.0</td>\n",
       "      <td>431231.0</td>\n",
       "      <td>73902.0</td>\n",
       "      <td>...</td>\n",
       "      <td>51660.0</td>\n",
       "      <td>-100.0</td>\n",
       "      <td>446572.0</td>\n",
       "      <td>231704.0</td>\n",
       "      <td>-129.0</td>\n",
       "      <td>-40.0</td>\n",
       "      <td>-64.0</td>\n",
       "      <td>-43.0</td>\n",
       "      <td>-20.0</td>\n",
       "      <td>0.0</td>\n",
       "    </tr>\n",
       "    <tr>\n",
       "      <th>Dairy Margin Coverage Program</th>\n",
       "      <td>0.0</td>\n",
       "      <td>0.0</td>\n",
       "      <td>0.0</td>\n",
       "      <td>0.0</td>\n",
       "      <td>0.0</td>\n",
       "      <td>0.0</td>\n",
       "      <td>0.0</td>\n",
       "      <td>0.0</td>\n",
       "      <td>0.0</td>\n",
       "      <td>0.0</td>\n",
       "      <td>...</td>\n",
       "      <td>0.0</td>\n",
       "      <td>0.0</td>\n",
       "      <td>0.0</td>\n",
       "      <td>0.0</td>\n",
       "      <td>0.0</td>\n",
       "      <td>686.0</td>\n",
       "      <td>10394.0</td>\n",
       "      <td>19.0</td>\n",
       "      <td>250013.0</td>\n",
       "      <td>214000.0</td>\n",
       "    </tr>\n",
       "    <tr>\n",
       "      <th>Lobbies to Democrats</th>\n",
       "      <td>707800.0</td>\n",
       "      <td>0.0</td>\n",
       "      <td>809200.0</td>\n",
       "      <td>0.0</td>\n",
       "      <td>918200.0</td>\n",
       "      <td>0.0</td>\n",
       "      <td>1000000.0</td>\n",
       "      <td>0.0</td>\n",
       "      <td>1100000.0</td>\n",
       "      <td>0.0</td>\n",
       "      <td>...</td>\n",
       "      <td>1600000.0</td>\n",
       "      <td>0.0</td>\n",
       "      <td>999000.0</td>\n",
       "      <td>0.0</td>\n",
       "      <td>791500.0</td>\n",
       "      <td>0.0</td>\n",
       "      <td>943400.0</td>\n",
       "      <td>0.0</td>\n",
       "      <td>821200.0</td>\n",
       "      <td>0.0</td>\n",
       "    </tr>\n",
       "    <tr>\n",
       "      <th>Lobbies to Republicans</th>\n",
       "      <td>1300000.0</td>\n",
       "      <td>0.0</td>\n",
       "      <td>2100000.0</td>\n",
       "      <td>0.0</td>\n",
       "      <td>2200000.0</td>\n",
       "      <td>0.0</td>\n",
       "      <td>2400000.0</td>\n",
       "      <td>0.0</td>\n",
       "      <td>2900000.0</td>\n",
       "      <td>0.0</td>\n",
       "      <td>...</td>\n",
       "      <td>2400000.0</td>\n",
       "      <td>0.0</td>\n",
       "      <td>3700000.0</td>\n",
       "      <td>0.0</td>\n",
       "      <td>2800000.0</td>\n",
       "      <td>0.0</td>\n",
       "      <td>3000000.0</td>\n",
       "      <td>0.0</td>\n",
       "      <td>2400000.0</td>\n",
       "      <td>0.0</td>\n",
       "    </tr>\n",
       "    <tr>\n",
       "      <th>Total Lobbies</th>\n",
       "      <td>2245000.0</td>\n",
       "      <td>3051110.0</td>\n",
       "      <td>2798900.0</td>\n",
       "      <td>3260000.0</td>\n",
       "      <td>4314700.0</td>\n",
       "      <td>4073436.0</td>\n",
       "      <td>4839800.0</td>\n",
       "      <td>4841312.0</td>\n",
       "      <td>3840045.0</td>\n",
       "      <td>5220448.0</td>\n",
       "      <td>...</td>\n",
       "      <td>5662885.0</td>\n",
       "      <td>6695032.0</td>\n",
       "      <td>7302248.0</td>\n",
       "      <td>8347149.0</td>\n",
       "      <td>6951794.0</td>\n",
       "      <td>7116441.0</td>\n",
       "      <td>6480567.0</td>\n",
       "      <td>6009870.0</td>\n",
       "      <td>7590843.0</td>\n",
       "      <td>5637167.0</td>\n",
       "    </tr>\n",
       "  </tbody>\n",
       "</table>\n",
       "<p>5 rows × 22 columns</p>\n",
       "</div>"
      ],
      "text/plain": [
       "                                    1998       1999       2000       2001  \\\n",
       "Milk income loss payments            0.0        0.0        0.0        0.0   \n",
       "Dairy Margin Coverage Program        0.0        0.0        0.0        0.0   \n",
       "Lobbies to Democrats            707800.0        0.0   809200.0        0.0   \n",
       "Lobbies to Republicans         1300000.0        0.0  2100000.0        0.0   \n",
       "Total Lobbies                  2245000.0  3051110.0  2798900.0  3260000.0   \n",
       "\n",
       "                                    2002       2003       2004       2005  \\\n",
       "Milk income loss payments       859642.0   913317.0   205677.0     9587.0   \n",
       "Dairy Margin Coverage Program        0.0        0.0        0.0        0.0   \n",
       "Lobbies to Democrats            918200.0        0.0  1000000.0        0.0   \n",
       "Lobbies to Republicans         2200000.0        0.0  2400000.0        0.0   \n",
       "Total Lobbies                  4314700.0  4073436.0  4839800.0  4841312.0   \n",
       "\n",
       "                                    2006       2007  ...       2010  \\\n",
       "Milk income loss payments       431231.0    73902.0  ...    51660.0   \n",
       "Dairy Margin Coverage Program        0.0        0.0  ...        0.0   \n",
       "Lobbies to Democrats           1100000.0        0.0  ...  1600000.0   \n",
       "Lobbies to Republicans         2900000.0        0.0  ...  2400000.0   \n",
       "Total Lobbies                  3840045.0  5220448.0  ...  5662885.0   \n",
       "\n",
       "                                    2011       2012       2013       2014  \\\n",
       "Milk income loss payments         -100.0   446572.0   231704.0     -129.0   \n",
       "Dairy Margin Coverage Program        0.0        0.0        0.0        0.0   \n",
       "Lobbies to Democrats                 0.0   999000.0        0.0   791500.0   \n",
       "Lobbies to Republicans               0.0  3700000.0        0.0  2800000.0   \n",
       "Total Lobbies                  6695032.0  7302248.0  8347149.0  6951794.0   \n",
       "\n",
       "                                    2015       2016       2017       2018  \\\n",
       "Milk income loss payments          -40.0      -64.0      -43.0      -20.0   \n",
       "Dairy Margin Coverage Program      686.0    10394.0       19.0   250013.0   \n",
       "Lobbies to Democrats                 0.0   943400.0        0.0   821200.0   \n",
       "Lobbies to Republicans               0.0  3000000.0        0.0  2400000.0   \n",
       "Total Lobbies                  7116441.0  6480567.0  6009870.0  7590843.0   \n",
       "\n",
       "                                    2019  \n",
       "Milk income loss payments            0.0  \n",
       "Dairy Margin Coverage Program   214000.0  \n",
       "Lobbies to Democrats                 0.0  \n",
       "Lobbies to Republicans               0.0  \n",
       "Total Lobbies                  5637167.0  \n",
       "\n",
       "[5 rows x 22 columns]"
      ]
     },
     "execution_count": 74,
     "metadata": {},
     "output_type": "execute_result"
    }
   ],
   "source": [
    "lobbies = pd.read_excel(\"AnnualLobyingOnDairy.xlsx\", index_cols=0)\n",
    "#reset index so years is a column\n",
    "lobbies_final = lobbies.pivot_table(columns='Year')\n",
    "all_funding = dairy_payouts.append(lobbies_final)\n",
    "all_funding = all_funding.fillna(0)\n",
    "all_funding"
   ]
  },
  {
   "cell_type": "markdown",
   "metadata": {},
   "source": [
    "## Plots"
   ]
  },
  {
   "cell_type": "code",
   "execution_count": 87,
   "metadata": {},
   "outputs": [
    {
     "data": {
      "text/plain": [
       "<function matplotlib.pyplot.show(*args, **kw)>"
      ]
     },
     "execution_count": 87,
     "metadata": {},
     "output_type": "execute_result"
    },
    {
     "data": {
      "image/png": "[encoded data removed]",
      "text/plain": [
       "<Figure size 432x288 with 2 Axes>"
      ]
     },
     "metadata": {
      "needs_background": "light"
     },
     "output_type": "display_data"
    }
   ],
   "source": [
    "#Plot milk production and lobbies to Republicans on the same graph to see how they correlate \n",
    "lobbies = all_funding.iloc[3]\n",
    "lobbies_every_other = lobbies[::2]\n",
    "\n",
    "sampled_production = milk_production[::2]\n",
    "sampled_production = sampled_production.iloc[9:20]\n",
    "\n",
    "\n",
    "ax3 = sampled_production.plot(color = 'orange', label=\"Production\")\n",
    "ax4 = lobbies_every_other.plot(secondary_y=True, color='blue', label=\"lobbies\")\n",
    "\n",
    "ax3.legend(loc=3)\n",
    "ax3.xaxis.set_ticks(lobbies_every_other.index)\n",
    "ax4.legend(loc=4)\n",
    "\n",
    "plt.show"
   ]
  },
  {
   "cell_type": "code",
   "execution_count": 105,
   "metadata": {},
   "outputs": [
    {
     "data": {
      "text/plain": [
       "<function matplotlib.pyplot.show(*args, **kw)>"
      ]
     },
     "execution_count": 105,
     "metadata": {},
     "output_type": "execute_result"
    },
    {
     "data": {
      "image/png": "[encoded data removed]",
      "text/plain": [
       "<Figure size 432x288 with 2 Axes>"
      ]
     },
     "metadata": {
      "needs_background": "light"
     },
     "output_type": "display_data"
    }
   ],
   "source": [
    "#Plot milk production and Government Payouts to the Dairy Industry to see if they correlate \n",
    "\n",
    "subsedies= all_funding.iloc[0:2]\n",
    "sampled_production = milk_production.iloc[18:41]\n",
    "\n",
    "ax1 = sampled_production.plot(color = 'orange', label=\"Production\")\n",
    "ax2 = subsedies.sum().plot(secondary_y=True, color='blue', label=\"Payouts\")\n",
    "\n",
    "ax1.legend(loc=1)\n",
    "#ax1.set_xticklabels(sampled_production.index, rotation=90)\n",
    "ax2.legend(loc=2)\n",
    "\n",
    "plt.show"
   ]
  },
  {
   "cell_type": "code",
   "execution_count": 207,
   "metadata": {},
   "outputs": [
    {
     "data": {
      "text/plain": [
       "<matplotlib.axes._subplots.AxesSubplot at 0x10a4430>"
      ]
     },
     "execution_count": 207,
     "metadata": {},
     "output_type": "execute_result"
    },
    {
     "data": {
      "image/png": "[encoded data removed]",
      "text/plain": [
       "<Figure size 432x288 with 1 Axes>"
      ]
     },
     "metadata": {
      "needs_background": "light"
     },
     "output_type": "display_data"
    }
   ],
   "source": [
    "division = senate_division_per_year[[\"Democrats\", \"Republicans\"]]\n",
    "division['division'] = division['Republicans'] - division['Democrats']\n",
    "division['division'].plot(color=(division['division'] > 0).map({True: 'r',\n",
    "                                                    False: 'b'}), kind ='bar')"
   ]
  },
  {
   "cell_type": "code",
   "execution_count": 107,
   "metadata": {},
   "outputs": [
    {
     "data": {
      "text/plain": [
       "<function matplotlib.pyplot.show(*args, **kw)>"
      ]
     },
     "execution_count": 107,
     "metadata": {},
     "output_type": "execute_result"
    },
    {
     "data": {
      "image/png": "[encoded data removed]",
      "text/plain": [
       "<Figure size 432x288 with 2 Axes>"
      ]
     },
     "metadata": {
      "needs_background": "light"
     },
     "output_type": "display_data"
    }
   ],
   "source": [
    "sampled_production = milk_production[::2]\n",
    "sampled_production = sampled_production.iloc[9:20]\n",
    "\n",
    "ax3 = sampled_production.pct_change().plot(color = 'orange', label=\"Growth of production\")\n",
    "ax4 = lobbies_every_other.plot(secondary_y=True, color='blue', label=\"lobbies\")\n",
    "\n",
    "ax3.legend(loc=3)\n",
    "ax3.xaxis.set_ticks(sampled_production.index)\n",
    "ax4.legend(loc=4)\n",
    "\n",
    "plt.show"
   ]
  },
  {
   "cell_type": "code",
   "execution_count": 104,
   "metadata": {},
   "outputs": [
    {
     "name": "stdout",
     "output_type": "stream",
     "text": [
      "Float64Index([1998.0, 1999.0, 2000.0, 2001.0, 2002.0, 2003.0, 2004.0, 2005.0,\n",
      "              2006.0, 2007.0, 2008.0, 2009.0, 2010.0, 2011.0, 2012.0, 2013.0,\n",
      "              2014.0, 2015.0, 2016.0, 2017.0, 2018.0],\n",
      "             dtype='float64', name='Year')\n"
     ]
    },
    {
     "data": {
      "text/plain": [
       "<function matplotlib.pyplot.show(*args, **kw)>"
      ]
     },
     "execution_count": 104,
     "metadata": {},
     "output_type": "execute_result"
    },
    {
     "data": {
      "image/png": "[encoded data removed]",
      "text/plain": [
       "<Figure size 432x288 with 2 Axes>"
      ]
     },
     "metadata": {
      "needs_background": "light"
     },
     "output_type": "display_data"
    }
   ],
   "source": [
    "subsedies= all_funding.iloc[0:2]\n",
    "sampled_production = milk_production.iloc[18:41]\n",
    "\n",
    "ax1 = sampled_production.pct_change().plot(color = 'orange', label=\"Growth in production\")\n",
    "ax2 = subsedies.sum().plot(secondary_y=True, color='blue', label=\"Payouts\")\n",
    "\n",
    "ax1.legend(loc=1)\n",
    "ax2.legend(loc=2)\n",
    "\n",
    "plt.show"
   ]
  }
 ],
 "metadata": {
  "kernelspec": {
   "display_name": "Python 3",
   "language": "python",
   "name": "python3"
  },
  "language_info": {
   "codemirror_mode": {
    "name": "ipython",
    "version": 3
   },
   "file_extension": ".py",
   "mimetype": "text/x-python",
   "name": "python",
   "nbconvert_exporter": "python",
   "pygments_lexer": "ipython3",
   "version": "3.7.1"
  }
 },
 "nbformat": 4,
 "nbformat_minor": 2
}
