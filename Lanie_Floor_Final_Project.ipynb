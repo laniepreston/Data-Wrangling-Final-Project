{
 "cells": [
  {
   "cell_type": "markdown",
   "metadata": {},
   "source": [
    "# Data Wrangling January 2020 #\n",
    "## Lanie Preston & Floor Kouwenberg ##"
   ]
  },
  {
   "cell_type": "markdown",
   "metadata": {},
   "source": [
    "Lanie Preston (VU Student Nr: 2629403)\n",
    "\n",
    "Floor Kouwenberg (VU ID:"
   ]
  },
  {
   "cell_type": "code",
   "execution_count": null,
   "metadata": {},
   "outputs": [],
   "source": [
    "#read in libraries\n",
    "import numpy as np\n",
    "import pandas as pd\n",
    "import matplotlib.pyplot as plt\n",
    "import requests\n",
    "from bs4 import BeautifulSoup"
   ]
  },
  {
   "cell_type": "markdown",
   "metadata": {},
   "source": [
    "## Data on USA Dairy Production per Year and Quarter ## "
   ]
  },
  {
   "cell_type": "code",
   "execution_count": null,
   "metadata": {},
   "outputs": [],
   "source": [
    "us_dairy_production = pd.read_excel('annualmilkprodfactors.xlsx')\n",
    "#pd.read_excel('quarterlymilkfactors_1_.xlsx')\n",
    "us_dairy_production\n",
    "#us_dairy_production.rename(columns={'pop':'population',\n",
    " #                         'lifeExp':'life_exp',\n",
    "  #                        'gdpPercap':'gdp_per_cap'}, \n",
    "   #              inplace=True)"
   ]
  },
  {
   "cell_type": "markdown",
   "metadata": {},
   "source": [
    "## Data on Party Divisions per Year ##"
   ]
  },
  {
   "cell_type": "code",
   "execution_count": null,
   "metadata": {},
   "outputs": [],
   "source": [
    "#seats per party per year \n",
    "url = 'https://en.wikipedia.org/wiki/Party_divisions_of_United_States_Congresses'\n",
    "web_requests = requests.get(url).text\n",
    "soup = BeautifulSoup(web_requests, 'lxml')\n",
    "print(soup.prettify)\n",
    "#My_table = soup.find('table',{'class':'wikitable sortable'})\n",
    "#seats = data = pd.read_html(url)\n",
    "#seats"
   ]
  },
  {
   "cell_type": "markdown",
   "metadata": {},
   "source": [
    "## Data on Dollar Amounts of Subsudies paid to Dairy Farmers by the US Government ##"
   ]
  },
  {
   "cell_type": "code",
   "execution_count": null,
   "metadata": {},
   "outputs": [],
   "source": [
    "#government payouts by program\n",
    "payouts2010 = pd.read_excel('GP_PaymentsUSA2010.xlsx')\n",
    "payouts2000 = pd.read_excel('GP_PaymentsUSA2000.xlsx')\n",
    "payouts1990 = pd.read_excel('GP_PaymentsUSA1990.xlsx')\n",
    "\n",
    "def clean_df(df):\n",
    "    if 'Unnamed: 4' in list(df):\n",
    "        del df['Unnamed: 4']\n",
    "    df.rename(columns= {'Unnamed: 0': 'Program'}, inplace=True)\n",
    "    df.rename(columns= {'United States': 'Program'}, inplace=True)\n",
    "    return df\n",
    "print(type(payouts1990))    \n",
    "payouts1990 = clean_df(payouts1990)\n",
    "payouts2000 = clean_df(payouts2000)\n",
    "payouts2010 = clean_df(payouts2010)\n",
    "\n",
    "\n",
    "payouts_early = pd.merge(payouts1990, payouts2000, how='outer')\n",
    "all_payouts = pd.merge(payouts_early, payouts2010, how='outer')\n",
    "all_payouts.set_index('Program')\n",
    "all_payouts\n",
    "mask = all_payouts.index.str.contains('Dairy')\n"
   ]
  },
  {
   "cell_type": "code",
   "execution_count": null,
   "metadata": {},
   "outputs": [],
   "source": [
    "#lobbies per year per party - how do we read this in?\n",
    "url3 = 'https://www.opensecrets.org/industries/indus.php?ind=a04'"
   ]
  },
  {
   "cell_type": "code",
   "execution_count": null,
   "metadata": {},
   "outputs": [],
   "source": []
  },
  {
   "cell_type": "code",
   "execution_count": null,
   "metadata": {},
   "outputs": [],
   "source": []
  }
 ],
 "metadata": {
  "kernelspec": {
   "display_name": "Python 3",
   "language": "python",
   "name": "python3"
  },
  "language_info": {
   "codemirror_mode": {
    "name": "ipython",
    "version": 3
   },
   "file_extension": ".py",
   "mimetype": "text/x-python",
   "name": "python",
   "nbconvert_exporter": "python",
   "pygments_lexer": "ipython3",
   "version": "3.7.3"
  }
 },
 "nbformat": 4,
 "nbformat_minor": 2
}
