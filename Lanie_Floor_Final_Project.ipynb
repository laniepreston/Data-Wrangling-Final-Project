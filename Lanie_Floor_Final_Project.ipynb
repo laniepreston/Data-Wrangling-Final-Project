{
 "cells": [
  {
   "cell_type": "markdown",
   "metadata": {},
   "source": [
    "# Data Wrangling - Vrije Universiteit Amsterdam - January Intensive 2020 #"
   ]
  },
  {
   "cell_type": "markdown",
   "metadata": {},
   "source": [
    "Lanie Preston (VU Student Nr: 2629403)\n",
    "\n",
    "Floor Kouwenberg (VU Student Nr: 2618232)"
   ]
  },
  {
   "cell_type": "code",
   "execution_count": 6,
   "metadata": {},
   "outputs": [],
   "source": [
    "#read in libraries\n",
    "import numpy as np\n",
    "import pandas as pd\n",
    "import matplotlib.pyplot as plt\n",
    "import requests"
   ]
  },
  {
   "cell_type": "markdown",
   "metadata": {},
   "source": [
    "We will first import all the necessary datesets. We could get some of the datasets by downloading them from websites. However, other datasets got imported via their URL. Below we will import four datasets:\n",
    " * The US dairy production per year\n",
    " * The party division per year of the United States Congress\n",
    " * The dollar amount of subsidies given to dairy farmers per year by the US government\n",
    " * The dollar amount of lobbies from the dairy industry given to US politicians per year"
   ]
  },
  {
   "cell_type": "markdown",
   "metadata": {},
   "source": [
    "## Annual Dairy Production ## "
   ]
  },
  {
   "cell_type": "markdown",
   "metadata": {},
   "source": [
    "In this section, we read in data from the USDA corresponding with the annual level of per capita milk production in the United Sates to examine how the American dairy industry has grown or shrunk over time. "
   ]
  },
  {
   "cell_type": "code",
   "execution_count": 7,
   "metadata": {},
   "outputs": [
    {
     "name": "stderr",
     "output_type": "stream",
     "text": [
      "ERROR:root:Internal Python error in the inspect module.\n",
      "Below is the traceback from this internal error.\n",
      "\n"
     ]
    },
    {
     "name": "stdout",
     "output_type": "stream",
     "text": [
      "Traceback (most recent call last):\n",
      "  File \"//anaconda3/lib/python3.7/site-packages/IPython/core/interactiveshell.py\", line 3325, in run_code\n",
      "    exec(code_obj, self.user_global_ns, self.user_ns)\n",
      "  File \"<ipython-input-7-aa9935dc6689>\", line 1, in <module>\n",
      "    us_dairy_production = pd.read_excel('annualmilkprodfactors.xlsx', index_col=0)\n",
      "  File \"//anaconda3/lib/python3.7/site-packages/pandas/util/_decorators.py\", line 188, in wrapper\n",
      "    return func(*args, **kwargs)\n",
      "  File \"//anaconda3/lib/python3.7/site-packages/pandas/util/_decorators.py\", line 188, in wrapper\n",
      "    return func(*args, **kwargs)\n",
      "  File \"//anaconda3/lib/python3.7/site-packages/pandas/io/excel.py\", line 350, in read_excel\n",
      "    io = ExcelFile(io, engine=engine)\n",
      "  File \"//anaconda3/lib/python3.7/site-packages/pandas/io/excel.py\", line 653, in __init__\n",
      "    self._reader = self._engines[engine](self._io)\n",
      "  File \"//anaconda3/lib/python3.7/site-packages/pandas/io/excel.py\", line 424, in __init__\n",
      "    self.book = xlrd.open_workbook(filepath_or_buffer)\n",
      "  File \"//anaconda3/lib/python3.7/site-packages/xlrd/__init__.py\", line 111, in open_workbook\n",
      "    with open(filename, \"rb\") as f:\n",
      "FileNotFoundError: [Errno 2] No such file or directory: 'annualmilkprodfactors.xlsx'\n",
      "\n",
      "During handling of the above exception, another exception occurred:\n",
      "\n",
      "Traceback (most recent call last):\n",
      "  File \"//anaconda3/lib/python3.7/site-packages/IPython/core/interactiveshell.py\", line 2039, in showtraceback\n",
      "    stb = value._render_traceback_()\n",
      "AttributeError: 'FileNotFoundError' object has no attribute '_render_traceback_'\n",
      "\n",
      "During handling of the above exception, another exception occurred:\n",
      "\n",
      "Traceback (most recent call last):\n",
      "  File \"//anaconda3/lib/python3.7/site-packages/IPython/core/ultratb.py\", line 1101, in get_records\n",
      "    return _fixed_getinnerframes(etb, number_of_lines_of_context, tb_offset)\n",
      "  File \"//anaconda3/lib/python3.7/site-packages/IPython/core/ultratb.py\", line 319, in wrapped\n",
      "    return f(*args, **kwargs)\n",
      "  File \"//anaconda3/lib/python3.7/site-packages/IPython/core/ultratb.py\", line 353, in _fixed_getinnerframes\n",
      "    records = fix_frame_records_filenames(inspect.getinnerframes(etb, context))\n",
      "  File \"//anaconda3/lib/python3.7/inspect.py\", line 1502, in getinnerframes\n",
      "    frameinfo = (tb.tb_frame,) + getframeinfo(tb, context)\n",
      "  File \"//anaconda3/lib/python3.7/inspect.py\", line 1460, in getframeinfo\n",
      "    filename = getsourcefile(frame) or getfile(frame)\n",
      "  File \"//anaconda3/lib/python3.7/inspect.py\", line 696, in getsourcefile\n",
      "    if getattr(getmodule(object, filename), '__loader__', None) is not None:\n",
      "  File \"//anaconda3/lib/python3.7/inspect.py\", line 725, in getmodule\n",
      "    file = getabsfile(object, _filename)\n",
      "  File \"//anaconda3/lib/python3.7/inspect.py\", line 709, in getabsfile\n",
      "    return os.path.normcase(os.path.abspath(_filename))\n",
      "  File \"//anaconda3/lib/python3.7/posixpath.py\", line 383, in abspath\n",
      "    cwd = os.getcwd()\n",
      "FileNotFoundError: [Errno 2] No such file or directory\n"
     ]
    },
    {
     "ename": "FileNotFoundError",
     "evalue": "[Errno 2] No such file or directory: 'annualmilkprodfactors.xlsx'",
     "output_type": "error",
     "traceback": [
      "\u001b[0;31m---------------------------------------------------------------------------\u001b[0m"
     ]
    }
   ],
   "source": [
    "us_dairy_production = pd.read_excel('annualmilkprodfactors.xlsx', index_col=0)\n",
    "us_dairy_production = us_dairy_production.dropna(axis=0)\n",
    "milk_production =  us_dairy_production[['Milk production']]"
   ]
  },
  {
   "cell_type": "markdown",
   "metadata": {},
   "source": [
    "## Party Divisions in Congress ##"
   ]
  },
  {
   "cell_type": "markdown",
   "metadata": {},
   "source": [
    "In this section, we read in data on how many Republicans and Democrats were in Congress per year to find the relative percentages of each party. "
   ]
  },
  {
   "cell_type": "code",
   "execution_count": 3,
   "metadata": {},
   "outputs": [],
   "source": [
    "#seats per party per year \n",
    "senate_division = pd.read_html(\"https://en.wikipedia.org/wiki/Party_divisions_of_United_States_Congresses\")[0].iloc[1100:1117]\n",
    "\n",
    "#Selecting the right columns from the table. Also renaming the columns and removing the multi-index\n",
    "senate_division = senate_division[[\"Years\",\"Senate\"]]\n",
    "senate_division.columns = senate_division.columns.droplevel(0)\n",
    "senate_division = senate_division.drop(['Others', 'Vacancies'], axis=1)\n",
    "senate_division = senate_division.rename({\"Total\": \"Democrats\", \"Anti-Admin[2]\": \"Republicans\", \"Pro-Admin[3]\": \"Other\"}, axis='columns')\n",
    "\n",
    "#Casting the values as integers\n",
    "senate_division[\"Democrats\"] = senate_division[\"Democrats\"].astype(str).str[0:2].astype(int)\n",
    "senate_division[\"Republicans\"] = senate_division[\"Republicans\"].astype(str).str[0:2].astype(int)\n",
    "senate_division[\"Other\"] = senate_division[\"Other\"].astype(str).str[0]\n",
    "senate_division = senate_division.set_index(\"Years\")\n",
    "\n",
    "senate_division_per_year = pd.DataFrame(index=[], columns=senate_division.columns)\n",
    "\n",
    "#Creating an annual table that states the division per year\n",
    "for index, row in senate_division.iterrows():\n",
    "    row.name = int(index.split(\"–\")[0])\n",
    "    senate_division_per_year = senate_division_per_year.append(row)\n",
    "    row.name = row.name+1\n",
    "    senate_division_per_year = senate_division_per_year.append(row)\n",
    "    \n",
    "senate_division_per_year = senate_division_per_year.fillna(0)"
   ]
  },
  {
   "cell_type": "markdown",
   "metadata": {},
   "source": [
    "## Subsudies to Dairy Farmers ##"
   ]
  },
  {
   "cell_type": "markdown",
   "metadata": {},
   "source": [
    "In this file we read in the dollar amount of annual subsudies paid from the US government to dairy farmers via two federal programs: Milk Income Loss Payments, which compensates farmers when milk prices drop below the price of milk in Boston, and the Dairy Margin Coverage Program, an opt-in program to compensate farmers whenever the price of milk falls below a farmer-specified level."
   ]
  },
  {
   "cell_type": "code",
   "execution_count": 5,
   "metadata": {},
   "outputs": [
    {
     "name": "stderr",
     "output_type": "stream",
     "text": [
      "ERROR:root:Internal Python error in the inspect module.\n",
      "Below is the traceback from this internal error.\n",
      "\n"
     ]
    },
    {
     "name": "stdout",
     "output_type": "stream",
     "text": [
      "Traceback (most recent call last):\n",
      "  File \"//anaconda3/lib/python3.7/site-packages/IPython/core/interactiveshell.py\", line 3325, in run_code\n",
      "    exec(code_obj, self.user_global_ns, self.user_ns)\n",
      "  File \"<ipython-input-5-3d5f05d5b50e>\", line 2, in <module>\n",
      "    payouts2010 = pd.read_excel('GP_PaymentsUSA2010.xlsx')\n",
      "  File \"//anaconda3/lib/python3.7/site-packages/pandas/util/_decorators.py\", line 188, in wrapper\n",
      "    return func(*args, **kwargs)\n",
      "  File \"//anaconda3/lib/python3.7/site-packages/pandas/util/_decorators.py\", line 188, in wrapper\n",
      "    return func(*args, **kwargs)\n",
      "  File \"//anaconda3/lib/python3.7/site-packages/pandas/io/excel.py\", line 350, in read_excel\n",
      "    io = ExcelFile(io, engine=engine)\n",
      "  File \"//anaconda3/lib/python3.7/site-packages/pandas/io/excel.py\", line 653, in __init__\n",
      "    self._reader = self._engines[engine](self._io)\n",
      "  File \"//anaconda3/lib/python3.7/site-packages/pandas/io/excel.py\", line 424, in __init__\n",
      "    self.book = xlrd.open_workbook(filepath_or_buffer)\n",
      "  File \"//anaconda3/lib/python3.7/site-packages/xlrd/__init__.py\", line 111, in open_workbook\n",
      "    with open(filename, \"rb\") as f:\n",
      "FileNotFoundError: [Errno 2] No such file or directory: 'GP_PaymentsUSA2010.xlsx'\n",
      "\n",
      "During handling of the above exception, another exception occurred:\n",
      "\n",
      "Traceback (most recent call last):\n",
      "  File \"//anaconda3/lib/python3.7/site-packages/IPython/core/interactiveshell.py\", line 2039, in showtraceback\n",
      "    stb = value._render_traceback_()\n",
      "AttributeError: 'FileNotFoundError' object has no attribute '_render_traceback_'\n",
      "\n",
      "During handling of the above exception, another exception occurred:\n",
      "\n",
      "Traceback (most recent call last):\n",
      "  File \"//anaconda3/lib/python3.7/site-packages/IPython/core/ultratb.py\", line 1101, in get_records\n",
      "    return _fixed_getinnerframes(etb, number_of_lines_of_context, tb_offset)\n",
      "  File \"//anaconda3/lib/python3.7/site-packages/IPython/core/ultratb.py\", line 319, in wrapped\n",
      "    return f(*args, **kwargs)\n",
      "  File \"//anaconda3/lib/python3.7/site-packages/IPython/core/ultratb.py\", line 353, in _fixed_getinnerframes\n",
      "    records = fix_frame_records_filenames(inspect.getinnerframes(etb, context))\n",
      "  File \"//anaconda3/lib/python3.7/inspect.py\", line 1502, in getinnerframes\n",
      "    frameinfo = (tb.tb_frame,) + getframeinfo(tb, context)\n",
      "  File \"//anaconda3/lib/python3.7/inspect.py\", line 1460, in getframeinfo\n",
      "    filename = getsourcefile(frame) or getfile(frame)\n",
      "  File \"//anaconda3/lib/python3.7/inspect.py\", line 696, in getsourcefile\n",
      "    if getattr(getmodule(object, filename), '__loader__', None) is not None:\n",
      "  File \"//anaconda3/lib/python3.7/inspect.py\", line 725, in getmodule\n",
      "    file = getabsfile(object, _filename)\n",
      "  File \"//anaconda3/lib/python3.7/inspect.py\", line 709, in getabsfile\n",
      "    return os.path.normcase(os.path.abspath(_filename))\n",
      "  File \"//anaconda3/lib/python3.7/posixpath.py\", line 383, in abspath\n",
      "    cwd = os.getcwd()\n",
      "FileNotFoundError: [Errno 2] No such file or directory\n"
     ]
    },
    {
     "ename": "FileNotFoundError",
     "evalue": "[Errno 2] No such file or directory: 'GP_PaymentsUSA2010.xlsx'",
     "output_type": "error",
     "traceback": [
      "\u001b[0;31m---------------------------------------------------------------------------\u001b[0m"
     ]
    }
   ],
   "source": [
    "#read in separate excel files \n",
    "payouts2010 = pd.read_excel('GP_PaymentsUSA2010.xlsx')\n",
    "payouts2000 = pd.read_excel('GP_PaymentsUSA2000.xlsx')\n",
    "payouts1990 = pd.read_excel('GP_PaymentsUSA1990.xlsx')\n",
    "\n",
    "#give all dfs sensible column names \n",
    "def clean_df(df):\n",
    "    if 'Unnamed: 4' in list(df):\n",
    "        del df['Unnamed: 4']\n",
    "    df.rename(columns= {'Unnamed: 0': 'Program'}, inplace=True)\n",
    "    df.rename(columns= {'United States': 'Program'}, inplace=True)\n",
    "    return df\n",
    "\n",
    "#clean all dataframes for merging \n",
    "payouts1990 = clean_df(payouts1990)\n",
    "payouts2000 = clean_df(payouts2000)\n",
    "payouts2010 = clean_df(payouts2010)\n",
    "\n",
    "\n",
    "#mergint the payouts of all years\n",
    "payouts_early = pd.merge(payouts1990, payouts2000, how='outer')\n",
    "payouts_early = payouts_early.drop([1990, 1991, 1992, 1993, 1994, 1995, 1996, 1997], axis=1)\n",
    "all_payouts = pd.merge(payouts_early, payouts2010, how='outer')\n",
    "\n",
    "#Find all payouts that are related to the dairy industry\n",
    "search_values = ['dairy','milk']\n",
    "dairy_payouts = all_payouts[all_payouts['Program'].str.contains('|'.join(search_values),  na=False, case=False)]\n",
    "dairy_payouts = dairy_payouts.set_index('Program')\n",
    "dairy_payouts.columns = dairy_payouts.columns.map(int)"
   ]
  },
  {
   "cell_type": "markdown",
   "metadata": {},
   "source": [
    "## Data on the amount of lobbies paid to US politicians by the dairy industry"
   ]
  },
  {
   "cell_type": "markdown",
   "metadata": {},
   "source": [
    "Here we read in data on the dollar amount of lobbies, which are legal bribes paid by major industries such as pharmaceuticals and agriculture indirectly to US politicians. Lobbies are received by both Democrats and Republicans, but Republicans are statistically more often recipients of said bribes."
   ]
  },
  {
   "cell_type": "code",
   "execution_count": 44,
   "metadata": {},
   "outputs": [],
   "source": [
    "lobbies = pd.read_excel(\"AnnualLobyingOnDairy.xlsx\", index_cols=0)\n",
    "\n",
    "#reset index so years is a column\n",
    "lobbies_final = lobbies.pivot_table(columns='Year')"
   ]
  },
  {
   "cell_type": "code",
   "execution_count": 92,
   "metadata": {},
   "outputs": [
    {
     "data": {
      "text/html": [
       "<div>\n",
       "<style scoped>\n",
       "    .dataframe tbody tr th:only-of-type {\n",
       "        vertical-align: middle;\n",
       "    }\n",
       "\n",
       "    .dataframe tbody tr th {\n",
       "        vertical-align: top;\n",
       "    }\n",
       "\n",
       "    .dataframe thead th {\n",
       "        text-align: right;\n",
       "    }\n",
       "</style>\n",
       "<table border=\"1\" class=\"dataframe\">\n",
       "  <thead>\n",
       "    <tr style=\"text-align: right;\">\n",
       "      <th></th>\n",
       "      <th>1998</th>\n",
       "      <th>1999</th>\n",
       "      <th>2000</th>\n",
       "      <th>2001</th>\n",
       "      <th>2002</th>\n",
       "      <th>2003</th>\n",
       "      <th>2004</th>\n",
       "      <th>2005</th>\n",
       "      <th>2006</th>\n",
       "      <th>2007</th>\n",
       "      <th>...</th>\n",
       "      <th>2010</th>\n",
       "      <th>2011</th>\n",
       "      <th>2012</th>\n",
       "      <th>2013</th>\n",
       "      <th>2014</th>\n",
       "      <th>2015</th>\n",
       "      <th>2016</th>\n",
       "      <th>2017</th>\n",
       "      <th>2018</th>\n",
       "      <th>2019</th>\n",
       "    </tr>\n",
       "  </thead>\n",
       "  <tbody>\n",
       "    <tr>\n",
       "      <th>Total Lobbies</th>\n",
       "      <td>2245000.0</td>\n",
       "      <td>3051110.0</td>\n",
       "      <td>2798900.0</td>\n",
       "      <td>3260000.0</td>\n",
       "      <td>4314700.0</td>\n",
       "      <td>4073436.0</td>\n",
       "      <td>4839800.0</td>\n",
       "      <td>4841312.0</td>\n",
       "      <td>3840045.0</td>\n",
       "      <td>5220448.0</td>\n",
       "      <td>...</td>\n",
       "      <td>5662885.0</td>\n",
       "      <td>6695032.0</td>\n",
       "      <td>7302248.0</td>\n",
       "      <td>8347149.0</td>\n",
       "      <td>6951794.0</td>\n",
       "      <td>7116441.0</td>\n",
       "      <td>6480567.0</td>\n",
       "      <td>6009870.0</td>\n",
       "      <td>7590843.0</td>\n",
       "      <td>5637167.0</td>\n",
       "    </tr>\n",
       "  </tbody>\n",
       "</table>\n",
       "<p>1 rows × 22 columns</p>\n",
       "</div>"
      ],
      "text/plain": [
       "                    1998       1999       2000       2001       2002  \\\n",
       "Total Lobbies  2245000.0  3051110.0  2798900.0  3260000.0  4314700.0   \n",
       "\n",
       "                    2003       2004       2005       2006       2007  ...  \\\n",
       "Total Lobbies  4073436.0  4839800.0  4841312.0  3840045.0  5220448.0  ...   \n",
       "\n",
       "                    2010       2011       2012       2013       2014  \\\n",
       "Total Lobbies  5662885.0  6695032.0  7302248.0  8347149.0  6951794.0   \n",
       "\n",
       "                    2015       2016       2017       2018       2019  \n",
       "Total Lobbies  7116441.0  6480567.0  6009870.0  7590843.0  5637167.0  \n",
       "\n",
       "[1 rows x 22 columns]"
      ]
     },
     "execution_count": 92,
     "metadata": {},
     "output_type": "execute_result"
    }
   ],
   "source": [
    "#Creating a table that contains the both lobbies and subsudies per year\n",
    "all_funding = dairy_payouts.append(lobbies_final)\n",
    "all_funding = all_funding.fillna(0)\n",
    "all_funding.iloc[[4]]"
   ]
  },
  {
   "cell_type": "markdown",
   "metadata": {},
   "source": [
    "## Data Visualization"
   ]
  },
  {
   "cell_type": "markdown",
   "metadata": {},
   "source": [
    "#### Milk Production and Lobbies"
   ]
  },
  {
   "cell_type": "code",
   "execution_count": 8,
   "metadata": {},
   "outputs": [
    {
     "name": "stderr",
     "output_type": "stream",
     "text": [
      "ERROR:root:Internal Python error in the inspect module.\n",
      "Below is the traceback from this internal error.\n",
      "\n"
     ]
    },
    {
     "name": "stdout",
     "output_type": "stream",
     "text": [
      "Traceback (most recent call last):\n",
      "  File \"//anaconda3/lib/python3.7/site-packages/IPython/core/interactiveshell.py\", line 3325, in run_code\n",
      "    exec(code_obj, self.user_global_ns, self.user_ns)\n",
      "  File \"<ipython-input-8-abca4b38066b>\", line 2, in <module>\n",
      "    lobbies = all_funding.iloc[4]\n",
      "NameError: name 'all_funding' is not defined\n",
      "\n",
      "During handling of the above exception, another exception occurred:\n",
      "\n",
      "Traceback (most recent call last):\n",
      "  File \"//anaconda3/lib/python3.7/site-packages/IPython/core/interactiveshell.py\", line 2039, in showtraceback\n",
      "    stb = value._render_traceback_()\n",
      "AttributeError: 'NameError' object has no attribute '_render_traceback_'\n",
      "\n",
      "During handling of the above exception, another exception occurred:\n",
      "\n",
      "Traceback (most recent call last):\n",
      "  File \"//anaconda3/lib/python3.7/site-packages/IPython/core/ultratb.py\", line 1101, in get_records\n",
      "    return _fixed_getinnerframes(etb, number_of_lines_of_context, tb_offset)\n",
      "  File \"//anaconda3/lib/python3.7/site-packages/IPython/core/ultratb.py\", line 319, in wrapped\n",
      "    return f(*args, **kwargs)\n",
      "  File \"//anaconda3/lib/python3.7/site-packages/IPython/core/ultratb.py\", line 353, in _fixed_getinnerframes\n",
      "    records = fix_frame_records_filenames(inspect.getinnerframes(etb, context))\n",
      "  File \"//anaconda3/lib/python3.7/inspect.py\", line 1502, in getinnerframes\n",
      "    frameinfo = (tb.tb_frame,) + getframeinfo(tb, context)\n",
      "  File \"//anaconda3/lib/python3.7/inspect.py\", line 1460, in getframeinfo\n",
      "    filename = getsourcefile(frame) or getfile(frame)\n",
      "  File \"//anaconda3/lib/python3.7/inspect.py\", line 696, in getsourcefile\n",
      "    if getattr(getmodule(object, filename), '__loader__', None) is not None:\n",
      "  File \"//anaconda3/lib/python3.7/inspect.py\", line 725, in getmodule\n",
      "    file = getabsfile(object, _filename)\n",
      "  File \"//anaconda3/lib/python3.7/inspect.py\", line 709, in getabsfile\n",
      "    return os.path.normcase(os.path.abspath(_filename))\n",
      "  File \"//anaconda3/lib/python3.7/posixpath.py\", line 383, in abspath\n",
      "    cwd = os.getcwd()\n",
      "FileNotFoundError: [Errno 2] No such file or directory\n"
     ]
    },
    {
     "ename": "NameError",
     "evalue": "name 'all_funding' is not defined",
     "output_type": "error",
     "traceback": [
      "\u001b[0;31m---------------------------------------------------------------------------\u001b[0m"
     ]
    }
   ],
   "source": [
    "\n",
    "#isolate lobbies from funding dataframe and take values from even years\n",
    "lobbies = all_funding.iloc[4]\n",
    "lobbies_every_other = lobbies[::2]\n",
    "\n",
    "#collect milk production data from every other year and from the correct timeframe\n",
    "sampled_production = milk_production[::2]\n",
    "sampled_production = sampled_production.iloc[9:20]\n",
    "\n",
    "#plot milk production and lobbies to Republicans on the same graph to see how they correlate \n",
    "ax1 = sampled_production.plot(color = 'orange', label=\"Dairy production\")\n",
    "ax2 = lobbies_every_other.plot(secondary_y=True, color='blue', label=\"Lobbies\")\n",
    "\n",
    "ax1.legend(loc=3)\n",
    "ax1.xaxis.set_ticks(lobbies_every_other.index)\n",
    "ax2.legend(loc=4)\n",
    "\n",
    "plt.show"
   ]
  },
  {
   "cell_type": "markdown",
   "metadata": {},
   "source": [
    "Plotting annual milk production on the same graph as annual lobbies from the dairy industry, there is an identifiable correlation. This suggests that these lobbies successfully ensure laws are enacted that significantly aid dairy farmers, either financially or through a lack of industry regulation."
   ]
  },
  {
   "cell_type": "markdown",
   "metadata": {},
   "source": [
    "#### Milk Production and Subsudies"
   ]
  },
  {
   "cell_type": "code",
   "execution_count": 47,
   "metadata": {},
   "outputs": [
    {
     "data": {
      "text/plain": [
       "<function matplotlib.pyplot.show(*args, **kw)>"
      ]
     },
     "execution_count": 47,
     "metadata": {},
     "output_type": "execute_result"
    },
    {
     "data": {
      "image/png": "[encoded data removed]",
      "text/plain": [
       "<Figure size 432x288 with 2 Axes>"
      ]
     },
     "metadata": {
      "needs_background": "light"
     },
     "output_type": "display_data"
    }
   ],
   "source": [
    "#select correct rows from government funding dataframe\n",
    "subsudies= all_funding.iloc[0:2]\n",
    "#select proper years from milk production dataframe\n",
    "sampled_production = milk_production.iloc[18:41]\n",
    "\n",
    "#plot milk production and Government Payouts to the Dairy Industry to see if they correlate \n",
    "ax1 = sampled_production.plot(color = 'orange', label=\"Dairy production\")\n",
    "ax2 = subsudies.sum().plot(secondary_y=True, color='blue', label=\"Subsidies\")\n",
    "\n",
    "ax1.legend(loc=1)\n",
    "ax2.legend(loc=2)\n",
    "\n",
    "plt.show"
   ]
  },
  {
   "cell_type": "markdown",
   "metadata": {},
   "source": [
    "#### Congress Division\n"
   ]
  },
  {
   "cell_type": "code",
   "execution_count": 10,
   "metadata": {},
   "outputs": [
    {
     "data": {
      "text/plain": [
       "<matplotlib.axes._subplots.AxesSubplot at 0x11d421fd0>"
      ]
     },
     "execution_count": 10,
     "metadata": {},
     "output_type": "execute_result"
    },
    {
     "data": {
      "image/png": "[encoded data removed]",
      "text/plain": [
       "<Figure size 432x288 with 1 Axes>"
      ]
     },
     "metadata": {
      "needs_background": "light"
     },
     "output_type": "display_data"
    }
   ],
   "source": [
    "#plot congress division per year. When the line is above the x-axis/red, Republicans hold the majority; \n",
    "#when the line is below the x-axis/is blue, Democrats hold the majority\n",
    "division = senate_division_per_year[[\"Democrats\", \"Republicans\"]]\n",
    "division['division'] = division['Republicans'] - division['Democrats']\n",
    "division['division'].plot(color=(division['division'] > 0).map({True: 'r', False: 'b'}), kind ='bar')"
   ]
  },
  {
   "cell_type": "code",
   "execution_count": 115,
   "metadata": {},
   "outputs": [
    {
     "name": "stdout",
     "output_type": "stream",
     "text": [
      "Int64Index([1998, 1999, 2000, 2001, 2002, 2003, 2004, 2005, 2006, 2007, 2008,\n",
      "            2009, 2010, 2011, 2012, 2013, 2014, 2015, 2016, 2017, 2018, 2019],\n",
      "           dtype='int64')\n",
      "Int64Index([1998, 1999, 2000, 2001, 2002, 2003, 2004, 2005, 2006, 2007, 2008,\n",
      "            2009, 2010, 2011, 2012, 2013, 2014, 2015, 2016, 2017, 2018, 2019],\n",
      "           dtype='int64')\n"
     ]
    },
    {
     "data": {
      "image/png": "[encoded data removed]",
      "text/plain": [
       "<Figure size 432x288 with 3 Axes>"
      ]
     },
     "metadata": {
      "needs_background": "light"
     },
     "output_type": "display_data"
    }
   ],
   "source": [
    "#fig, ax1 = plt.subplots(figsize = (15,8))\n",
    "ax1 = all_funding.iloc[[4]].T.plot(secondary_y=True, color='green', label=\"Lobbies\", kind = \"line\")\n",
    "ax2 = ax1.twinx()\n",
    "division['division'].iloc[11:33].plot(color=(division['division'] > 0).map({True: 'r', False: 'b'}), kind ='bar', ax=ax1)\n",
    "#divison.plot(y = ['division'], kind = 'bar', ax = ax)\n",
    "#df.plot(y= ['value1','value2'], kind = 'bar', ax = ax)\n",
    "#division.plot(y = ['division'], kind = 'bar', ax = ax)\n",
    "#all_funding.T.plot(y= ['Total Lobbies'], kind = 'line', ax = ax)"
   ]
  },
  {
   "cell_type": "code",
   "execution_count": 105,
   "metadata": {},
   "outputs": [
    {
     "data": {
      "image/png": "[encoded data removed]",
      "text/plain": [
       "<Figure size 432x288 with 2 Axes>"
      ]
     },
     "metadata": {
      "needs_background": "light"
     },
     "output_type": "display_data"
    }
   ],
   "source": [
    "df = pd.DataFrame({\"index\" : [\"Belfast\", \"London\", \"Twoabbey\", \"Lisboa\", \"Barra\"],\n",
    "                   \"town\" : [5000,1000,600,600,500],\n",
    "                   \"pop\" : [12,14,16,18,20]})\n",
    "\n",
    "ax1= df.plot.bar(y=\"town\", x='index')\n",
    "\n",
    "ax2 = ax1.twinx()\n",
    "\n",
    "ax2.plot(df[\"index\"], df[\"pop\"])\n",
    "\n",
    "plt.show()"
   ]
  },
  {
   "cell_type": "markdown",
   "metadata": {},
   "source": [
    "#### Milk Production Growth Rate and Lobbies"
   ]
  },
  {
   "cell_type": "code",
   "execution_count": 11,
   "metadata": {},
   "outputs": [
    {
     "name": "stderr",
     "output_type": "stream",
     "text": [
      "ERROR:root:Internal Python error in the inspect module.\n",
      "Below is the traceback from this internal error.\n",
      "\n"
     ]
    },
    {
     "name": "stdout",
     "output_type": "stream",
     "text": [
      "Traceback (most recent call last):\n",
      "  File \"//anaconda3/lib/python3.7/site-packages/IPython/core/interactiveshell.py\", line 3325, in run_code\n",
      "    exec(code_obj, self.user_global_ns, self.user_ns)\n",
      "  File \"<ipython-input-11-eab90173a556>\", line 5, in <module>\n",
      "    ax2 = lobbies.plot(secondary_y=True, color='blue', label=\"Lobbies\")\n",
      "NameError: name 'lobbies' is not defined\n",
      "\n",
      "During handling of the above exception, another exception occurred:\n",
      "\n",
      "Traceback (most recent call last):\n",
      "  File \"//anaconda3/lib/python3.7/site-packages/IPython/core/interactiveshell.py\", line 2039, in showtraceback\n",
      "    stb = value._render_traceback_()\n",
      "AttributeError: 'NameError' object has no attribute '_render_traceback_'\n",
      "\n",
      "During handling of the above exception, another exception occurred:\n",
      "\n",
      "Traceback (most recent call last):\n",
      "  File \"//anaconda3/lib/python3.7/site-packages/IPython/core/ultratb.py\", line 1101, in get_records\n",
      "    return _fixed_getinnerframes(etb, number_of_lines_of_context, tb_offset)\n",
      "  File \"//anaconda3/lib/python3.7/site-packages/IPython/core/ultratb.py\", line 319, in wrapped\n",
      "    return f(*args, **kwargs)\n",
      "  File \"//anaconda3/lib/python3.7/site-packages/IPython/core/ultratb.py\", line 353, in _fixed_getinnerframes\n",
      "    records = fix_frame_records_filenames(inspect.getinnerframes(etb, context))\n",
      "  File \"//anaconda3/lib/python3.7/inspect.py\", line 1502, in getinnerframes\n",
      "    frameinfo = (tb.tb_frame,) + getframeinfo(tb, context)\n",
      "  File \"//anaconda3/lib/python3.7/inspect.py\", line 1460, in getframeinfo\n",
      "    filename = getsourcefile(frame) or getfile(frame)\n",
      "  File \"//anaconda3/lib/python3.7/inspect.py\", line 696, in getsourcefile\n",
      "    if getattr(getmodule(object, filename), '__loader__', None) is not None:\n",
      "  File \"//anaconda3/lib/python3.7/inspect.py\", line 725, in getmodule\n",
      "    file = getabsfile(object, _filename)\n",
      "  File \"//anaconda3/lib/python3.7/inspect.py\", line 709, in getabsfile\n",
      "    return os.path.normcase(os.path.abspath(_filename))\n",
      "  File \"//anaconda3/lib/python3.7/posixpath.py\", line 383, in abspath\n",
      "    cwd = os.getcwd()\n",
      "FileNotFoundError: [Errno 2] No such file or directory\n"
     ]
    },
    {
     "ename": "NameError",
     "evalue": "name 'lobbies' is not defined",
     "output_type": "error",
     "traceback": [
      "\u001b[0;31m---------------------------------------------------------------------------\u001b[0m"
     ]
    },
    {
     "data": {
      "image/png": "[encoded data removed]",
      "text/plain": [
       "<Figure size 432x288 with 1 Axes>"
      ]
     },
     "metadata": {
      "needs_background": "light"
     },
     "output_type": "display_data"
    }
   ],
   "source": [
    "#Plot the growth of the milk industry versus dollar amounts of lobbies to the dairy industry per year.\n",
    "sampled_production = milk_production.iloc[18:42]\n",
    "\n",
    "ax1 = sampled_production.pct_change().plot(color = 'orange', label=\"Production growth\")\n",
    "ax2 = lobbies.plot(secondary_y=True, color='blue', label=\"Lobbies\")\n",
    "\n",
    "ax1.legend(loc=1)\n",
    "ax1.xaxis.set_ticks(sampled_production.index, 90)\n",
    "ax2.legend(loc=2)\n",
    "\n",
    "plt.show()\n",
    "\n"
   ]
  },
  {
   "cell_type": "markdown",
   "metadata": {},
   "source": [
    "#### Milk Production Growth Rate and Subsudies"
   ]
  },
  {
   "cell_type": "code",
   "execution_count": 64,
   "metadata": {},
   "outputs": [
    {
     "data": {
      "text/plain": [
       "<function matplotlib.pyplot.show(*args, **kw)>"
      ]
     },
     "execution_count": 64,
     "metadata": {},
     "output_type": "execute_result"
    },
    {
     "data": {
      "image/png": "[encoded data removed]",
      "text/plain": [
       "<Figure size 432x288 with 2 Axes>"
      ]
     },
     "metadata": {
      "needs_background": "light"
     },
     "output_type": "display_data"
    }
   ],
   "source": [
    "#plot the growth rate \n",
    "subsudies= all_funding.iloc[0:2]\n",
    "sampled_production = milk_production.iloc[18:41]\n",
    "\n",
    "ax1 = sampled_production.pct_change().plot(color = 'orange', label=\"Production growth\")\n",
    "ax2 = subsudies.sum().plot(secondary_y=True, color='blue', label=\"Subsidies\")\n",
    "\n",
    "ax1.legend(loc=1)\n",
    "ax2.legend(loc=2)\n",
    "\n",
    "plt.show"
   ]
  },
  {
   "cell_type": "code",
   "execution_count": null,
   "metadata": {},
   "outputs": [],
   "source": []
  }
 ],
 "metadata": {
  "kernelspec": {
   "display_name": "Python 3",
   "language": "python",
   "name": "python3"
  },
  "language_info": {
   "codemirror_mode": {
    "name": "ipython",
    "version": 3
   },
   "file_extension": ".py",
   "mimetype": "text/x-python",
   "name": "python",
   "nbconvert_exporter": "python",
   "pygments_lexer": "ipython3",
   "version": "3.7.3"
  }
 },
 "nbformat": 4,
 "nbformat_minor": 2
}
