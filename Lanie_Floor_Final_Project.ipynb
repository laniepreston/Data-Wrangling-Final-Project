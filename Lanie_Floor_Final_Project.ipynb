{
 "cells": [
  {
   "cell_type": "markdown",
   "metadata": {},
   "source": [
    "# Data Wrangling - Vrije Universiteit Amsterdam - January Intensive 2020 #"
   ]
  },
  {
   "cell_type": "markdown",
   "metadata": {},
   "source": [
    "Lanie Preston (VU Student Nr: 2629403)\n",
    "\n",
    "Floor Kouwenberg (VU Student Nr: 2618232)"
   ]
  },
  {
   "cell_type": "code",
   "execution_count": 1,
   "metadata": {},
   "outputs": [],
   "source": [
    "#read in libraries\n",
    "import numpy as np\n",
    "import pandas as pd\n",
    "import matplotlib.pyplot as plt\n",
    "import requests\n",
    "from matplotlib.ticker import FormatStrFormatter"
   ]
  },
  {
   "cell_type": "markdown",
   "metadata": {},
   "source": [
    "## Data Retrieval"
   ]
  },
  {
   "cell_type": "markdown",
   "metadata": {},
   "source": [
    "We will first import all the necessary datesets. We could get some of the datasets by downloading them from websites. However, other datasets got imported via their URL. Below we will import four datasets:\n",
    " * The US dairy production per year\n",
    " * The party division per year of the United States Congress\n",
    " * The dollar amount of subsidies given to dairy farmers per year by the US government\n",
    " * The dollar amount of lobbies from the dairy industry given to US politicians per year"
   ]
  },
  {
   "cell_type": "markdown",
   "metadata": {},
   "source": [
    "### Annual Dairy Production ## "
   ]
  },
  {
   "cell_type": "markdown",
   "metadata": {},
   "source": [
    "In this section, we read in data from the USDA corresponding with the annual level of per capita milk production in the United Sates to examine how the American dairy industry has grown or shrunk over time. "
   ]
  },
  {
   "cell_type": "code",
   "execution_count": 2,
   "metadata": {},
   "outputs": [
    {
     "data": {
      "text/html": [
       "<div>\n",
       "<style scoped>\n",
       "    .dataframe tbody tr th:only-of-type {\n",
       "        vertical-align: middle;\n",
       "    }\n",
       "\n",
       "    .dataframe tbody tr th {\n",
       "        vertical-align: top;\n",
       "    }\n",
       "\n",
       "    .dataframe thead th {\n",
       "        text-align: right;\n",
       "    }\n",
       "</style>\n",
       "<table border=\"1\" class=\"dataframe\">\n",
       "  <thead>\n",
       "    <tr style=\"text-align: right;\">\n",
       "      <th></th>\n",
       "      <th>Milk production</th>\n",
       "    </tr>\n",
       "    <tr>\n",
       "      <th>Year</th>\n",
       "      <th></th>\n",
       "    </tr>\n",
       "  </thead>\n",
       "  <tbody>\n",
       "    <tr>\n",
       "      <th>1980.0</th>\n",
       "      <td>128406.0</td>\n",
       "    </tr>\n",
       "    <tr>\n",
       "      <th>1981.0</th>\n",
       "      <td>132770.0</td>\n",
       "    </tr>\n",
       "    <tr>\n",
       "      <th>1982.0</th>\n",
       "      <td>135505.0</td>\n",
       "    </tr>\n",
       "    <tr>\n",
       "      <th>1983.0</th>\n",
       "      <td>139588.0</td>\n",
       "    </tr>\n",
       "    <tr>\n",
       "      <th>1984.0</th>\n",
       "      <td>135351.0</td>\n",
       "    </tr>\n",
       "    <tr>\n",
       "      <th>1985.0</th>\n",
       "      <td>143012.0</td>\n",
       "    </tr>\n",
       "    <tr>\n",
       "      <th>1986.0</th>\n",
       "      <td>143124.0</td>\n",
       "    </tr>\n",
       "    <tr>\n",
       "      <th>1987.0</th>\n",
       "      <td>142709.0</td>\n",
       "    </tr>\n",
       "    <tr>\n",
       "      <th>1988.0</th>\n",
       "      <td>145034.0</td>\n",
       "    </tr>\n",
       "    <tr>\n",
       "      <th>1989.0</th>\n",
       "      <td>143893.0</td>\n",
       "    </tr>\n",
       "    <tr>\n",
       "      <th>1990.0</th>\n",
       "      <td>147721.0</td>\n",
       "    </tr>\n",
       "    <tr>\n",
       "      <th>1991.0</th>\n",
       "      <td>147697.0</td>\n",
       "    </tr>\n",
       "    <tr>\n",
       "      <th>1992.0</th>\n",
       "      <td>150847.0</td>\n",
       "    </tr>\n",
       "    <tr>\n",
       "      <th>1993.0</th>\n",
       "      <td>150636.0</td>\n",
       "    </tr>\n",
       "    <tr>\n",
       "      <th>1994.0</th>\n",
       "      <td>153602.0</td>\n",
       "    </tr>\n",
       "    <tr>\n",
       "      <th>1995.0</th>\n",
       "      <td>155292.0</td>\n",
       "    </tr>\n",
       "    <tr>\n",
       "      <th>1996.0</th>\n",
       "      <td>154006.0</td>\n",
       "    </tr>\n",
       "    <tr>\n",
       "      <th>1997.0</th>\n",
       "      <td>156091.0</td>\n",
       "    </tr>\n",
       "    <tr>\n",
       "      <th>1998.0</th>\n",
       "      <td>157262.0</td>\n",
       "    </tr>\n",
       "    <tr>\n",
       "      <th>1999.0</th>\n",
       "      <td>162589.0</td>\n",
       "    </tr>\n",
       "    <tr>\n",
       "      <th>2000.0</th>\n",
       "      <td>167393.0</td>\n",
       "    </tr>\n",
       "    <tr>\n",
       "      <th>2001.0</th>\n",
       "      <td>165332.0</td>\n",
       "    </tr>\n",
       "    <tr>\n",
       "      <th>2002.0</th>\n",
       "      <td>170063.0</td>\n",
       "    </tr>\n",
       "    <tr>\n",
       "      <th>2003.0</th>\n",
       "      <td>170348.0</td>\n",
       "    </tr>\n",
       "    <tr>\n",
       "      <th>2004.0</th>\n",
       "      <td>170832.0</td>\n",
       "    </tr>\n",
       "    <tr>\n",
       "      <th>2005.0</th>\n",
       "      <td>176931.0</td>\n",
       "    </tr>\n",
       "    <tr>\n",
       "      <th>2006.0</th>\n",
       "      <td>181782.0</td>\n",
       "    </tr>\n",
       "    <tr>\n",
       "      <th>2007.0</th>\n",
       "      <td>185654.0</td>\n",
       "    </tr>\n",
       "    <tr>\n",
       "      <th>2008.0</th>\n",
       "      <td>189978.0</td>\n",
       "    </tr>\n",
       "    <tr>\n",
       "      <th>2009.0</th>\n",
       "      <td>189202.0</td>\n",
       "    </tr>\n",
       "    <tr>\n",
       "      <th>2010.0</th>\n",
       "      <td>192877.0</td>\n",
       "    </tr>\n",
       "    <tr>\n",
       "      <th>2011.0</th>\n",
       "      <td>196255.0</td>\n",
       "    </tr>\n",
       "    <tr>\n",
       "      <th>2012.0</th>\n",
       "      <td>200642.0</td>\n",
       "    </tr>\n",
       "    <tr>\n",
       "      <th>2013.0</th>\n",
       "      <td>201231.0</td>\n",
       "    </tr>\n",
       "    <tr>\n",
       "      <th>2014.0</th>\n",
       "      <td>206054.0</td>\n",
       "    </tr>\n",
       "    <tr>\n",
       "      <th>2015.0</th>\n",
       "      <td>208597.0</td>\n",
       "    </tr>\n",
       "    <tr>\n",
       "      <th>2016.0</th>\n",
       "      <td>212405.0</td>\n",
       "    </tr>\n",
       "    <tr>\n",
       "      <th>2017.0</th>\n",
       "      <td>215527.0</td>\n",
       "    </tr>\n",
       "    <tr>\n",
       "      <th>2018.0</th>\n",
       "      <td>217575.0</td>\n",
       "    </tr>\n",
       "  </tbody>\n",
       "</table>\n",
       "</div>"
      ],
      "text/plain": [
       "        Milk production\n",
       "Year                   \n",
       "1980.0         128406.0\n",
       "1981.0         132770.0\n",
       "1982.0         135505.0\n",
       "1983.0         139588.0\n",
       "1984.0         135351.0\n",
       "1985.0         143012.0\n",
       "1986.0         143124.0\n",
       "1987.0         142709.0\n",
       "1988.0         145034.0\n",
       "1989.0         143893.0\n",
       "1990.0         147721.0\n",
       "1991.0         147697.0\n",
       "1992.0         150847.0\n",
       "1993.0         150636.0\n",
       "1994.0         153602.0\n",
       "1995.0         155292.0\n",
       "1996.0         154006.0\n",
       "1997.0         156091.0\n",
       "1998.0         157262.0\n",
       "1999.0         162589.0\n",
       "2000.0         167393.0\n",
       "2001.0         165332.0\n",
       "2002.0         170063.0\n",
       "2003.0         170348.0\n",
       "2004.0         170832.0\n",
       "2005.0         176931.0\n",
       "2006.0         181782.0\n",
       "2007.0         185654.0\n",
       "2008.0         189978.0\n",
       "2009.0         189202.0\n",
       "2010.0         192877.0\n",
       "2011.0         196255.0\n",
       "2012.0         200642.0\n",
       "2013.0         201231.0\n",
       "2014.0         206054.0\n",
       "2015.0         208597.0\n",
       "2016.0         212405.0\n",
       "2017.0         215527.0\n",
       "2018.0         217575.0"
      ]
     },
     "execution_count": 2,
     "metadata": {},
     "output_type": "execute_result"
    }
   ],
   "source": [
    "us_dairy_production = pd.read_excel('annualmilkprodfactors.xlsx', index_col=0)\n",
    "us_dairy_production = us_dairy_production.dropna(axis=0)\n",
    "milk_production =  us_dairy_production[['Milk production']]\n",
    "milk_production"
   ]
  },
  {
   "cell_type": "markdown",
   "metadata": {},
   "source": [
    "### Party Divisions in Congress ##"
   ]
  },
  {
   "cell_type": "markdown",
   "metadata": {},
   "source": [
    "In this section, we read in data on how many Republicans and Democrats were in Congress per year to find the relative percentages of each party. "
   ]
  },
  {
   "cell_type": "code",
   "execution_count": 3,
   "metadata": {},
   "outputs": [
    {
     "data": {
      "text/html": [
       "<div>\n",
       "<style scoped>\n",
       "    .dataframe tbody tr th:only-of-type {\n",
       "        vertical-align: middle;\n",
       "    }\n",
       "\n",
       "    .dataframe tbody tr th {\n",
       "        vertical-align: top;\n",
       "    }\n",
       "\n",
       "    .dataframe thead th {\n",
       "        text-align: right;\n",
       "    }\n",
       "</style>\n",
       "<table border=\"1\" class=\"dataframe\">\n",
       "  <thead>\n",
       "    <tr style=\"text-align: right;\">\n",
       "      <th></th>\n",
       "      <th>Senate Democrats</th>\n",
       "      <th>Senate Republicans</th>\n",
       "      <th>HOR Democrats</th>\n",
       "      <th>HOR Republicans</th>\n",
       "    </tr>\n",
       "  </thead>\n",
       "  <tbody>\n",
       "    <tr>\n",
       "      <th>1987</th>\n",
       "      <td>55</td>\n",
       "      <td>45</td>\n",
       "      <td>258</td>\n",
       "      <td>177</td>\n",
       "    </tr>\n",
       "    <tr>\n",
       "      <th>1988</th>\n",
       "      <td>55</td>\n",
       "      <td>45</td>\n",
       "      <td>258</td>\n",
       "      <td>177</td>\n",
       "    </tr>\n",
       "    <tr>\n",
       "      <th>1989</th>\n",
       "      <td>55</td>\n",
       "      <td>45</td>\n",
       "      <td>260</td>\n",
       "      <td>175</td>\n",
       "    </tr>\n",
       "    <tr>\n",
       "      <th>1990</th>\n",
       "      <td>55</td>\n",
       "      <td>45</td>\n",
       "      <td>260</td>\n",
       "      <td>175</td>\n",
       "    </tr>\n",
       "    <tr>\n",
       "      <th>1991</th>\n",
       "      <td>56</td>\n",
       "      <td>44</td>\n",
       "      <td>267</td>\n",
       "      <td>167</td>\n",
       "    </tr>\n",
       "    <tr>\n",
       "      <th>1992</th>\n",
       "      <td>56</td>\n",
       "      <td>44</td>\n",
       "      <td>267</td>\n",
       "      <td>167</td>\n",
       "    </tr>\n",
       "    <tr>\n",
       "      <th>1993</th>\n",
       "      <td>57</td>\n",
       "      <td>43</td>\n",
       "      <td>258</td>\n",
       "      <td>176</td>\n",
       "    </tr>\n",
       "    <tr>\n",
       "      <th>1994</th>\n",
       "      <td>57</td>\n",
       "      <td>43</td>\n",
       "      <td>258</td>\n",
       "      <td>176</td>\n",
       "    </tr>\n",
       "    <tr>\n",
       "      <th>1995</th>\n",
       "      <td>47</td>\n",
       "      <td>53</td>\n",
       "      <td>204</td>\n",
       "      <td>230</td>\n",
       "    </tr>\n",
       "    <tr>\n",
       "      <th>1996</th>\n",
       "      <td>47</td>\n",
       "      <td>53</td>\n",
       "      <td>204</td>\n",
       "      <td>230</td>\n",
       "    </tr>\n",
       "    <tr>\n",
       "      <th>1997</th>\n",
       "      <td>45</td>\n",
       "      <td>55</td>\n",
       "      <td>206</td>\n",
       "      <td>227</td>\n",
       "    </tr>\n",
       "    <tr>\n",
       "      <th>1998</th>\n",
       "      <td>45</td>\n",
       "      <td>55</td>\n",
       "      <td>206</td>\n",
       "      <td>227</td>\n",
       "    </tr>\n",
       "    <tr>\n",
       "      <th>1999</th>\n",
       "      <td>45</td>\n",
       "      <td>55</td>\n",
       "      <td>211</td>\n",
       "      <td>223</td>\n",
       "    </tr>\n",
       "    <tr>\n",
       "      <th>2000</th>\n",
       "      <td>45</td>\n",
       "      <td>55</td>\n",
       "      <td>211</td>\n",
       "      <td>223</td>\n",
       "    </tr>\n",
       "    <tr>\n",
       "      <th>2001</th>\n",
       "      <td>50</td>\n",
       "      <td>50</td>\n",
       "      <td>212</td>\n",
       "      <td>221</td>\n",
       "    </tr>\n",
       "    <tr>\n",
       "      <th>2002</th>\n",
       "      <td>50</td>\n",
       "      <td>50</td>\n",
       "      <td>212</td>\n",
       "      <td>221</td>\n",
       "    </tr>\n",
       "    <tr>\n",
       "      <th>2003</th>\n",
       "      <td>48</td>\n",
       "      <td>51</td>\n",
       "      <td>205</td>\n",
       "      <td>229</td>\n",
       "    </tr>\n",
       "    <tr>\n",
       "      <th>2004</th>\n",
       "      <td>48</td>\n",
       "      <td>51</td>\n",
       "      <td>205</td>\n",
       "      <td>229</td>\n",
       "    </tr>\n",
       "    <tr>\n",
       "      <th>2005</th>\n",
       "      <td>44</td>\n",
       "      <td>55</td>\n",
       "      <td>202</td>\n",
       "      <td>232</td>\n",
       "    </tr>\n",
       "    <tr>\n",
       "      <th>2006</th>\n",
       "      <td>44</td>\n",
       "      <td>55</td>\n",
       "      <td>202</td>\n",
       "      <td>232</td>\n",
       "    </tr>\n",
       "    <tr>\n",
       "      <th>2007</th>\n",
       "      <td>49</td>\n",
       "      <td>49</td>\n",
       "      <td>233</td>\n",
       "      <td>202</td>\n",
       "    </tr>\n",
       "    <tr>\n",
       "      <th>2008</th>\n",
       "      <td>49</td>\n",
       "      <td>49</td>\n",
       "      <td>233</td>\n",
       "      <td>202</td>\n",
       "    </tr>\n",
       "    <tr>\n",
       "      <th>2009</th>\n",
       "      <td>56</td>\n",
       "      <td>40</td>\n",
       "      <td>257</td>\n",
       "      <td>178</td>\n",
       "    </tr>\n",
       "    <tr>\n",
       "      <th>2010</th>\n",
       "      <td>56</td>\n",
       "      <td>40</td>\n",
       "      <td>257</td>\n",
       "      <td>178</td>\n",
       "    </tr>\n",
       "    <tr>\n",
       "      <th>2011</th>\n",
       "      <td>51</td>\n",
       "      <td>47</td>\n",
       "      <td>193</td>\n",
       "      <td>242</td>\n",
       "    </tr>\n",
       "    <tr>\n",
       "      <th>2012</th>\n",
       "      <td>51</td>\n",
       "      <td>47</td>\n",
       "      <td>193</td>\n",
       "      <td>242</td>\n",
       "    </tr>\n",
       "    <tr>\n",
       "      <th>2013</th>\n",
       "      <td>53</td>\n",
       "      <td>45</td>\n",
       "      <td>201</td>\n",
       "      <td>234</td>\n",
       "    </tr>\n",
       "    <tr>\n",
       "      <th>2014</th>\n",
       "      <td>53</td>\n",
       "      <td>45</td>\n",
       "      <td>201</td>\n",
       "      <td>234</td>\n",
       "    </tr>\n",
       "    <tr>\n",
       "      <th>2015</th>\n",
       "      <td>44</td>\n",
       "      <td>54</td>\n",
       "      <td>188</td>\n",
       "      <td>247</td>\n",
       "    </tr>\n",
       "    <tr>\n",
       "      <th>2016</th>\n",
       "      <td>44</td>\n",
       "      <td>54</td>\n",
       "      <td>188</td>\n",
       "      <td>247</td>\n",
       "    </tr>\n",
       "    <tr>\n",
       "      <th>2017</th>\n",
       "      <td>46</td>\n",
       "      <td>52</td>\n",
       "      <td>194</td>\n",
       "      <td>241</td>\n",
       "    </tr>\n",
       "    <tr>\n",
       "      <th>2018</th>\n",
       "      <td>46</td>\n",
       "      <td>52</td>\n",
       "      <td>194</td>\n",
       "      <td>241</td>\n",
       "    </tr>\n",
       "    <tr>\n",
       "      <th>2019</th>\n",
       "      <td>45</td>\n",
       "      <td>53</td>\n",
       "      <td>235</td>\n",
       "      <td>197</td>\n",
       "    </tr>\n",
       "    <tr>\n",
       "      <th>2020</th>\n",
       "      <td>45</td>\n",
       "      <td>53</td>\n",
       "      <td>235</td>\n",
       "      <td>197</td>\n",
       "    </tr>\n",
       "  </tbody>\n",
       "</table>\n",
       "</div>"
      ],
      "text/plain": [
       "      Senate Democrats  Senate Republicans  HOR Democrats  HOR Republicans\n",
       "1987                55                  45            258              177\n",
       "1988                55                  45            258              177\n",
       "1989                55                  45            260              175\n",
       "1990                55                  45            260              175\n",
       "1991                56                  44            267              167\n",
       "1992                56                  44            267              167\n",
       "1993                57                  43            258              176\n",
       "1994                57                  43            258              176\n",
       "1995                47                  53            204              230\n",
       "1996                47                  53            204              230\n",
       "1997                45                  55            206              227\n",
       "1998                45                  55            206              227\n",
       "1999                45                  55            211              223\n",
       "2000                45                  55            211              223\n",
       "2001                50                  50            212              221\n",
       "2002                50                  50            212              221\n",
       "2003                48                  51            205              229\n",
       "2004                48                  51            205              229\n",
       "2005                44                  55            202              232\n",
       "2006                44                  55            202              232\n",
       "2007                49                  49            233              202\n",
       "2008                49                  49            233              202\n",
       "2009                56                  40            257              178\n",
       "2010                56                  40            257              178\n",
       "2011                51                  47            193              242\n",
       "2012                51                  47            193              242\n",
       "2013                53                  45            201              234\n",
       "2014                53                  45            201              234\n",
       "2015                44                  54            188              247\n",
       "2016                44                  54            188              247\n",
       "2017                46                  52            194              241\n",
       "2018                46                  52            194              241\n",
       "2019                45                  53            235              197\n",
       "2020                45                  53            235              197"
      ]
     },
     "execution_count": 3,
     "metadata": {},
     "output_type": "execute_result"
    }
   ],
   "source": [
    "senate_division = pd.read_html(\"https://en.wikipedia.org/wiki/Party_divisions_of_United_States_Congresses\")[0].iloc[1100:1117]\n",
    "\n",
    "#Selecting the right columns from the table. Also renaming the columns and removing the multi-index\n",
    "senate_division = senate_division[[\"Years\",\"Senate\",\"Unnamed: 8_level_0\", \"House of Representatives\"]]\n",
    "senate_division.columns = senate_division.columns.droplevel(0)\n",
    "senate_division = senate_division.drop(['Others', 'Vacancies', \"Anti-Admin\", \"Pro-Admin\", \"Pro-Admin[3]\"], axis=1)\n",
    "senate_division.columns.values[1] = \"Senate Democrats\"\n",
    "senate_division.rename({\"Anti-Admin[2]\": \"Senate Republicans\", \"Unnamed: 8_level_1\": \"HOR Democrats\", \"Total\": \"HOR Republicans\"}, axis='columns', inplace=True)\n",
    "\n",
    "#Casting the values as integers\n",
    "senate_division[\"Senate Democrats\"] = senate_division[\"Senate Democrats\"].astype(str).str[0:2].astype(int)\n",
    "senate_division[\"Senate Republicans\"] = senate_division[\"Senate Republicans\"].astype(str).str[0:2].astype(int)\n",
    "senate_division[\"HOR Democrats\"] = senate_division[\"HOR Democrats\"].astype(str).str[0:3].astype(int)\n",
    "senate_division[\"HOR Republicans\"] = senate_division[\"HOR Republicans\"].astype(str).str[0:3].astype(int)\n",
    "senate_division = senate_division.set_index(\"Years\")\n",
    "\n",
    "senate_division_per_year = pd.DataFrame(index=[], columns=senate_division.columns)\n",
    "\n",
    "#Creating an annual table that states the division per year\n",
    "for index, row in senate_division.iterrows():\n",
    "    row.name = int(index.split(\"–\")[0])\n",
    "    senate_division_per_year = senate_division_per_year.append(row)\n",
    "    row.name = row.name+1\n",
    "    senate_division_per_year = senate_division_per_year.append(row)\n",
    "    \n",
    "senate_division_per_year = senate_division_per_year.fillna(0)\n",
    "senate_division_per_year"
   ]
  },
  {
   "cell_type": "markdown",
   "metadata": {},
   "source": [
    "### Subsidies to Dairy Farmers ##"
   ]
  },
  {
   "cell_type": "markdown",
   "metadata": {},
   "source": [
    "In this file we read in the dollar amount of annual subsidies paid from the US government to dairy farmers via two federal programs: Milk Income Loss Payments, which compensates farmers when milk prices drop below the price of milk in Boston, and the Dairy Margin Coverage Program, an opt-in program to compensate farmers whenever the price of milk falls below a farmer-specified level."
   ]
  },
  {
   "cell_type": "code",
   "execution_count": 4,
   "metadata": {},
   "outputs": [
    {
     "data": {
      "text/html": [
       "<div>\n",
       "<style scoped>\n",
       "    .dataframe tbody tr th:only-of-type {\n",
       "        vertical-align: middle;\n",
       "    }\n",
       "\n",
       "    .dataframe tbody tr th {\n",
       "        vertical-align: top;\n",
       "    }\n",
       "\n",
       "    .dataframe thead th {\n",
       "        text-align: right;\n",
       "    }\n",
       "</style>\n",
       "<table border=\"1\" class=\"dataframe\">\n",
       "  <thead>\n",
       "    <tr style=\"text-align: right;\">\n",
       "      <th></th>\n",
       "      <th>1998</th>\n",
       "      <th>1999</th>\n",
       "      <th>2000</th>\n",
       "      <th>2001</th>\n",
       "      <th>2002</th>\n",
       "      <th>2003</th>\n",
       "      <th>2004</th>\n",
       "      <th>2005</th>\n",
       "      <th>2006</th>\n",
       "      <th>2007</th>\n",
       "      <th>...</th>\n",
       "      <th>2010</th>\n",
       "      <th>2011</th>\n",
       "      <th>2012</th>\n",
       "      <th>2013</th>\n",
       "      <th>2014</th>\n",
       "      <th>2015</th>\n",
       "      <th>2016</th>\n",
       "      <th>2017</th>\n",
       "      <th>2018</th>\n",
       "      <th>2019</th>\n",
       "    </tr>\n",
       "    <tr>\n",
       "      <th>Program</th>\n",
       "      <th></th>\n",
       "      <th></th>\n",
       "      <th></th>\n",
       "      <th></th>\n",
       "      <th></th>\n",
       "      <th></th>\n",
       "      <th></th>\n",
       "      <th></th>\n",
       "      <th></th>\n",
       "      <th></th>\n",
       "      <th></th>\n",
       "      <th></th>\n",
       "      <th></th>\n",
       "      <th></th>\n",
       "      <th></th>\n",
       "      <th></th>\n",
       "      <th></th>\n",
       "      <th></th>\n",
       "      <th></th>\n",
       "      <th></th>\n",
       "      <th></th>\n",
       "    </tr>\n",
       "  </thead>\n",
       "  <tbody>\n",
       "    <tr>\n",
       "      <th>Milk income loss payments</th>\n",
       "      <td>0.0</td>\n",
       "      <td>0.0</td>\n",
       "      <td>0</td>\n",
       "      <td>0</td>\n",
       "      <td>859642</td>\n",
       "      <td>913317</td>\n",
       "      <td>205677</td>\n",
       "      <td>9587</td>\n",
       "      <td>431231</td>\n",
       "      <td>73902</td>\n",
       "      <td>...</td>\n",
       "      <td>51660.0</td>\n",
       "      <td>-100.0</td>\n",
       "      <td>446572.0</td>\n",
       "      <td>231704.0</td>\n",
       "      <td>-129.0</td>\n",
       "      <td>-40.0</td>\n",
       "      <td>-64.0</td>\n",
       "      <td>-43.0</td>\n",
       "      <td>-20.0</td>\n",
       "      <td>0.0</td>\n",
       "    </tr>\n",
       "    <tr>\n",
       "      <th>Dairy Margin Coverage Program</th>\n",
       "      <td>0.0</td>\n",
       "      <td>0.0</td>\n",
       "      <td>0</td>\n",
       "      <td>0</td>\n",
       "      <td>0</td>\n",
       "      <td>0</td>\n",
       "      <td>0</td>\n",
       "      <td>0</td>\n",
       "      <td>0</td>\n",
       "      <td>0</td>\n",
       "      <td>...</td>\n",
       "      <td>0.0</td>\n",
       "      <td>0.0</td>\n",
       "      <td>0.0</td>\n",
       "      <td>0.0</td>\n",
       "      <td>0.0</td>\n",
       "      <td>686.0</td>\n",
       "      <td>10394.0</td>\n",
       "      <td>19.0</td>\n",
       "      <td>250013.0</td>\n",
       "      <td>214000.0</td>\n",
       "    </tr>\n",
       "  </tbody>\n",
       "</table>\n",
       "<p>2 rows × 22 columns</p>\n",
       "</div>"
      ],
      "text/plain": [
       "                               1998  1999  2000  2001    2002    2003    2004  \\\n",
       "Program                                                                         \n",
       "Milk income loss payments       0.0   0.0     0     0  859642  913317  205677   \n",
       "Dairy Margin Coverage Program   0.0   0.0     0     0       0       0       0   \n",
       "\n",
       "                               2005    2006   2007  ...     2010   2011  \\\n",
       "Program                                             ...                   \n",
       "Milk income loss payments      9587  431231  73902  ...  51660.0 -100.0   \n",
       "Dairy Margin Coverage Program     0       0      0  ...      0.0    0.0   \n",
       "\n",
       "                                   2012      2013   2014   2015     2016  \\\n",
       "Program                                                                    \n",
       "Milk income loss payments      446572.0  231704.0 -129.0  -40.0    -64.0   \n",
       "Dairy Margin Coverage Program       0.0       0.0    0.0  686.0  10394.0   \n",
       "\n",
       "                               2017      2018      2019  \n",
       "Program                                                  \n",
       "Milk income loss payments     -43.0     -20.0       0.0  \n",
       "Dairy Margin Coverage Program  19.0  250013.0  214000.0  \n",
       "\n",
       "[2 rows x 22 columns]"
      ]
     },
     "execution_count": 4,
     "metadata": {},
     "output_type": "execute_result"
    }
   ],
   "source": [
    "#read in separate excel files \n",
    "payouts2010 = pd.read_excel('GP_PaymentsUSA2010.xlsx')\n",
    "payouts2000 = pd.read_excel('GP_PaymentsUSA2000.xlsx')\n",
    "payouts1990 = pd.read_excel('GP_PaymentsUSA1990.xlsx')\n",
    "\n",
    "#give all dfs sensible column names \n",
    "def clean_df(df):\n",
    "    if 'Unnamed: 4' in list(df):\n",
    "        del df['Unnamed: 4']\n",
    "    df.rename(columns= {'Unnamed: 0': 'Program'}, inplace=True)\n",
    "    df.rename(columns= {'United States': 'Program'}, inplace=True)\n",
    "    return df\n",
    "\n",
    "#clean all dataframes for merging \n",
    "payouts1990 = clean_df(payouts1990)\n",
    "payouts2000 = clean_df(payouts2000)\n",
    "payouts2010 = clean_df(payouts2010)\n",
    "\n",
    "\n",
    "#mergint the payouts of all years\n",
    "payouts_early = pd.merge(payouts1990, payouts2000, how='outer')\n",
    "payouts_early = payouts_early.drop([1990, 1991, 1992, 1993, 1994, 1995, 1996, 1997], axis=1)\n",
    "all_payouts = pd.merge(payouts_early, payouts2010, how='outer')\n",
    "\n",
    "#Find all payouts that are related to the dairy industry\n",
    "search_values = ['dairy','milk']\n",
    "dairy_payouts = all_payouts[all_payouts['Program'].str.contains('|'.join(search_values),  na=False, case=False)]\n",
    "dairy_payouts = dairy_payouts.set_index('Program')\n",
    "dairy_payouts.columns = dairy_payouts.columns.map(int)\n",
    "dairy_payouts = dairy_payouts.fillna(0)\n",
    "dairy_payouts"
   ]
  },
  {
   "cell_type": "markdown",
   "metadata": {},
   "source": [
    "### Lobbies Paid to US Politicians by the Dairy Industry"
   ]
  },
  {
   "cell_type": "markdown",
   "metadata": {},
   "source": [
    "Here we read in data on the dollar amount of lobbies, which are legal bribes paid by major industries such as pharmaceuticals and agriculture indirectly to US politicians. Lobbies are received by both Democrats and Republicans, but Republicans are statistically more often recipients of said bribes."
   ]
  },
  {
   "cell_type": "code",
   "execution_count": 5,
   "metadata": {},
   "outputs": [
    {
     "data": {
      "text/html": [
       "<div>\n",
       "<style scoped>\n",
       "    .dataframe tbody tr th:only-of-type {\n",
       "        vertical-align: middle;\n",
       "    }\n",
       "\n",
       "    .dataframe tbody tr th {\n",
       "        vertical-align: top;\n",
       "    }\n",
       "\n",
       "    .dataframe thead th {\n",
       "        text-align: right;\n",
       "    }\n",
       "</style>\n",
       "<table border=\"1\" class=\"dataframe\">\n",
       "  <thead>\n",
       "    <tr style=\"text-align: right;\">\n",
       "      <th>Year</th>\n",
       "      <th>1998</th>\n",
       "      <th>1999</th>\n",
       "      <th>2000</th>\n",
       "      <th>2001</th>\n",
       "      <th>2002</th>\n",
       "      <th>2003</th>\n",
       "      <th>2004</th>\n",
       "      <th>2005</th>\n",
       "      <th>2006</th>\n",
       "      <th>2007</th>\n",
       "      <th>...</th>\n",
       "      <th>2010</th>\n",
       "      <th>2011</th>\n",
       "      <th>2012</th>\n",
       "      <th>2013</th>\n",
       "      <th>2014</th>\n",
       "      <th>2015</th>\n",
       "      <th>2016</th>\n",
       "      <th>2017</th>\n",
       "      <th>2018</th>\n",
       "      <th>2019</th>\n",
       "    </tr>\n",
       "  </thead>\n",
       "  <tbody>\n",
       "    <tr>\n",
       "      <th>Total Lobbies</th>\n",
       "      <td>2245000</td>\n",
       "      <td>3051110</td>\n",
       "      <td>2798900</td>\n",
       "      <td>3260000</td>\n",
       "      <td>4314700</td>\n",
       "      <td>4073436</td>\n",
       "      <td>4839800</td>\n",
       "      <td>4841312</td>\n",
       "      <td>3840045</td>\n",
       "      <td>5220448</td>\n",
       "      <td>...</td>\n",
       "      <td>5662885</td>\n",
       "      <td>6695032</td>\n",
       "      <td>7302248</td>\n",
       "      <td>8347149</td>\n",
       "      <td>6951794</td>\n",
       "      <td>7116441</td>\n",
       "      <td>6480567</td>\n",
       "      <td>6009870</td>\n",
       "      <td>7590843</td>\n",
       "      <td>5637167</td>\n",
       "    </tr>\n",
       "  </tbody>\n",
       "</table>\n",
       "<p>1 rows × 22 columns</p>\n",
       "</div>"
      ],
      "text/plain": [
       "Year              1998     1999     2000     2001     2002     2003     2004  \\\n",
       "Total Lobbies  2245000  3051110  2798900  3260000  4314700  4073436  4839800   \n",
       "\n",
       "Year              2005     2006     2007  ...     2010     2011     2012  \\\n",
       "Total Lobbies  4841312  3840045  5220448  ...  5662885  6695032  7302248   \n",
       "\n",
       "Year              2013     2014     2015     2016     2017     2018     2019  \n",
       "Total Lobbies  8347149  6951794  7116441  6480567  6009870  7590843  5637167  \n",
       "\n",
       "[1 rows x 22 columns]"
      ]
     },
     "execution_count": 5,
     "metadata": {},
     "output_type": "execute_result"
    }
   ],
   "source": [
    "lobbies = pd.read_excel(\"AnnualLobbyingOnDairy.xlsx\", index_cols=0)\n",
    "lobbies_final = lobbies.pivot_table(columns='Year')\n",
    "lobbies_final"
   ]
  },
  {
   "cell_type": "code",
   "execution_count": 6,
   "metadata": {},
   "outputs": [
    {
     "data": {
      "text/html": [
       "<div>\n",
       "<style scoped>\n",
       "    .dataframe tbody tr th:only-of-type {\n",
       "        vertical-align: middle;\n",
       "    }\n",
       "\n",
       "    .dataframe tbody tr th {\n",
       "        vertical-align: top;\n",
       "    }\n",
       "\n",
       "    .dataframe thead th {\n",
       "        text-align: right;\n",
       "    }\n",
       "</style>\n",
       "<table border=\"1\" class=\"dataframe\">\n",
       "  <thead>\n",
       "    <tr style=\"text-align: right;\">\n",
       "      <th></th>\n",
       "      <th>1998</th>\n",
       "      <th>1999</th>\n",
       "      <th>2000</th>\n",
       "      <th>2001</th>\n",
       "      <th>2002</th>\n",
       "      <th>2003</th>\n",
       "      <th>2004</th>\n",
       "      <th>2005</th>\n",
       "      <th>2006</th>\n",
       "      <th>2007</th>\n",
       "      <th>...</th>\n",
       "      <th>2010</th>\n",
       "      <th>2011</th>\n",
       "      <th>2012</th>\n",
       "      <th>2013</th>\n",
       "      <th>2014</th>\n",
       "      <th>2015</th>\n",
       "      <th>2016</th>\n",
       "      <th>2017</th>\n",
       "      <th>2018</th>\n",
       "      <th>2019</th>\n",
       "    </tr>\n",
       "  </thead>\n",
       "  <tbody>\n",
       "    <tr>\n",
       "      <th>Milk income loss payments</th>\n",
       "      <td>0.0</td>\n",
       "      <td>0.0</td>\n",
       "      <td>0</td>\n",
       "      <td>0</td>\n",
       "      <td>859642</td>\n",
       "      <td>913317</td>\n",
       "      <td>205677</td>\n",
       "      <td>9587</td>\n",
       "      <td>431231</td>\n",
       "      <td>73902</td>\n",
       "      <td>...</td>\n",
       "      <td>51660.0</td>\n",
       "      <td>-100.0</td>\n",
       "      <td>446572.0</td>\n",
       "      <td>231704.0</td>\n",
       "      <td>-129.0</td>\n",
       "      <td>-40.0</td>\n",
       "      <td>-64.0</td>\n",
       "      <td>-43.0</td>\n",
       "      <td>-20.0</td>\n",
       "      <td>0.0</td>\n",
       "    </tr>\n",
       "    <tr>\n",
       "      <th>Dairy Margin Coverage Program</th>\n",
       "      <td>0.0</td>\n",
       "      <td>0.0</td>\n",
       "      <td>0</td>\n",
       "      <td>0</td>\n",
       "      <td>0</td>\n",
       "      <td>0</td>\n",
       "      <td>0</td>\n",
       "      <td>0</td>\n",
       "      <td>0</td>\n",
       "      <td>0</td>\n",
       "      <td>...</td>\n",
       "      <td>0.0</td>\n",
       "      <td>0.0</td>\n",
       "      <td>0.0</td>\n",
       "      <td>0.0</td>\n",
       "      <td>0.0</td>\n",
       "      <td>686.0</td>\n",
       "      <td>10394.0</td>\n",
       "      <td>19.0</td>\n",
       "      <td>250013.0</td>\n",
       "      <td>214000.0</td>\n",
       "    </tr>\n",
       "    <tr>\n",
       "      <th>Total Lobbies</th>\n",
       "      <td>2245000.0</td>\n",
       "      <td>3051110.0</td>\n",
       "      <td>2798900</td>\n",
       "      <td>3260000</td>\n",
       "      <td>4314700</td>\n",
       "      <td>4073436</td>\n",
       "      <td>4839800</td>\n",
       "      <td>4841312</td>\n",
       "      <td>3840045</td>\n",
       "      <td>5220448</td>\n",
       "      <td>...</td>\n",
       "      <td>5662885.0</td>\n",
       "      <td>6695032.0</td>\n",
       "      <td>7302248.0</td>\n",
       "      <td>8347149.0</td>\n",
       "      <td>6951794.0</td>\n",
       "      <td>7116441.0</td>\n",
       "      <td>6480567.0</td>\n",
       "      <td>6009870.0</td>\n",
       "      <td>7590843.0</td>\n",
       "      <td>5637167.0</td>\n",
       "    </tr>\n",
       "  </tbody>\n",
       "</table>\n",
       "<p>3 rows × 22 columns</p>\n",
       "</div>"
      ],
      "text/plain": [
       "                                    1998       1999     2000     2001  \\\n",
       "Milk income loss payments            0.0        0.0        0        0   \n",
       "Dairy Margin Coverage Program        0.0        0.0        0        0   \n",
       "Total Lobbies                  2245000.0  3051110.0  2798900  3260000   \n",
       "\n",
       "                                  2002     2003     2004     2005     2006  \\\n",
       "Milk income loss payments       859642   913317   205677     9587   431231   \n",
       "Dairy Margin Coverage Program        0        0        0        0        0   \n",
       "Total Lobbies                  4314700  4073436  4839800  4841312  3840045   \n",
       "\n",
       "                                  2007  ...       2010       2011       2012  \\\n",
       "Milk income loss payments        73902  ...    51660.0     -100.0   446572.0   \n",
       "Dairy Margin Coverage Program        0  ...        0.0        0.0        0.0   \n",
       "Total Lobbies                  5220448  ...  5662885.0  6695032.0  7302248.0   \n",
       "\n",
       "                                    2013       2014       2015       2016  \\\n",
       "Milk income loss payments       231704.0     -129.0      -40.0      -64.0   \n",
       "Dairy Margin Coverage Program        0.0        0.0      686.0    10394.0   \n",
       "Total Lobbies                  8347149.0  6951794.0  7116441.0  6480567.0   \n",
       "\n",
       "                                    2017       2018       2019  \n",
       "Milk income loss payments          -43.0      -20.0        0.0  \n",
       "Dairy Margin Coverage Program       19.0   250013.0   214000.0  \n",
       "Total Lobbies                  6009870.0  7590843.0  5637167.0  \n",
       "\n",
       "[3 rows x 22 columns]"
      ]
     },
     "execution_count": 6,
     "metadata": {},
     "output_type": "execute_result"
    }
   ],
   "source": [
    "#Creating a table that contains the both lobbies and subsidies per year\n",
    "all_funding = dairy_payouts.append(lobbies_final)\n",
    "all_funding = all_funding.fillna(0)\n",
    "all_funding"
   ]
  },
  {
   "cell_type": "markdown",
   "metadata": {},
   "source": [
    "## Data Visualization"
   ]
  },
  {
   "cell_type": "markdown",
   "metadata": {},
   "source": [
    "#### Milk Production and Lobbies"
   ]
  },
  {
   "cell_type": "code",
   "execution_count": 9,
   "metadata": {},
   "outputs": [
    {
     "data": {
      "text/plain": [
       "<function matplotlib.pyplot.show(*args, **kw)>"
      ]
     },
     "execution_count": 9,
     "metadata": {},
     "output_type": "execute_result"
    },
    {
     "data": {
      "image/png": "[encoded data removed]",
      "text/plain": [
       "<Figure size 432x288 with 2 Axes>"
      ]
     },
     "metadata": {
      "needs_background": "light"
     },
     "output_type": "display_data"
    }
   ],
   "source": [
    "#isolate lobbies from funding dataframe\n",
    "lobbies = all_funding.iloc[2]\n",
    "\n",
    "#collect milk production data from  year and from the correct timeframe\n",
    "sampled_production = milk_production.iloc[18:44]\n",
    "\n",
    "#plot milk production and lobbies to Republicans on the same graph to see how they correlate \n",
    "ax1 = sampled_production.plot(color = 'orange', label=\"Dairy production\", rot=\"vertical\")\n",
    "ax2 = lobbies.plot(secondary_y=True, color='blue', label=\"Lobbies\", rot='vertical', xticks=lobbies.index)\n",
    "\n",
    "ax1.legend([\"Dairy Production\"], loc=3)\n",
    "ax2.legend(loc=4)\n",
    "ax1.set(ylabel=\"million pounds\")\n",
    "ax1.right_ax.set_ylabel(\"dollars\")\n",
    "plt.title(\"Dairy Production and Lobbies\")\n",
    "plt.show"
   ]
  },
  {
   "cell_type": "markdown",
   "metadata": {},
   "source": [
    "There is an identifiable correlation between annual dairy production in pounds and annual dollars spent on lobbies. This suggests that these lobbies successfully ensure laws are enacted that significantly aid dairy farmers, either financially or through a lack of industry regulation."
   ]
  },
  {
   "cell_type": "markdown",
   "metadata": {},
   "source": [
    "#### Milk Production and Subsidies"
   ]
  },
  {
   "cell_type": "code",
   "execution_count": 8,
   "metadata": {},
   "outputs": [
    {
     "data": {
      "text/plain": [
       "<function matplotlib.pyplot.show(*args, **kw)>"
      ]
     },
     "execution_count": 8,
     "metadata": {},
     "output_type": "execute_result"
    },
    {
     "data": {
      "image/png": "[encoded data removed]",
      "text/plain": [
       "<Figure size 432x288 with 2 Axes>"
      ]
     },
     "metadata": {
      "needs_background": "light"
     },
     "output_type": "display_data"
    }
   ],
   "source": [
    "#select correct rows from government funding dataframe\n",
    "subsidies= all_funding.iloc[0:1]\n",
    "\n",
    "#select proper years from milk production dataframe\n",
    "sampled_production = milk_production.iloc[18:41]\n",
    "\n",
    "#plot milk production and Government Payouts to the Dairy Industry to see if they correlate \n",
    "ax1 = sampled_production.plot(color = 'orange', label=\"Dairy production\", rot='vertical')\n",
    "ax2 = subsidies.sum().plot(secondary_y=True, color='blue', label=\"Subsidies\", xticks=lobbies.index, rot='vertical')\n",
    "\n",
    "ax2.legend(loc=1)\n",
    "ax1.legend([\"Dairy Production\"], loc=2)\n",
    "ax1.set(ylabel=\"million pounds\")\n",
    "ax1.right_ax.set_ylabel(\"dollars\")\n",
    "plt.title(\"Dairy Production and Subsidies\")\n",
    "plt.show"
   ]
  },
  {
   "cell_type": "markdown",
   "metadata": {},
   "source": [
    "Since the subsidy programs the USDA provides data on vary so widly in their payout amounts from year to year, there is no identifiable correlation between dairy production and subsidies."
   ]
  },
  {
   "cell_type": "markdown",
   "metadata": {},
   "source": [
    "#### Dairy Production Growth Rate and Lobbies"
   ]
  },
  {
   "cell_type": "markdown",
   "metadata": {},
   "source": [
    "Since the growth rate of the US population could also affect its production, we decided to look at the growth rate of dairy production against annual lobbies and subsidies as well."
   ]
  },
  {
   "cell_type": "code",
   "execution_count": 9,
   "metadata": {},
   "outputs": [
    {
     "data": {
      "image/png": "[encoded data removed]",
      "text/plain": [
       "<Figure size 432x288 with 2 Axes>"
      ]
     },
     "metadata": {
      "needs_background": "light"
     },
     "output_type": "display_data"
    }
   ],
   "source": [
    "#Plot the growth of the milk industry versus dollar amounts of lobbies to the dairy industry per year.\n",
    "production_growth = milk_production.iloc[18:42].pct_change()\n",
    "\n",
    "ax = production_growth.plot(color = 'orange', label=\"Production Growth\")\n",
    "ax2 = lobbies.plot(secondary_y=True, color='blue', label=\"Lobbies\", ax = ax, xticks=lobbies.index, rot='vertical')\n",
    "\n",
    "ax.legend([\"Production Growth\"], loc=2)\n",
    "ax.xaxis.set_ticks(sampled_production.index, 90)\n",
    "ax2.legend(loc=1)\n",
    "plt.title(\"Dairy Production Growth and Lobbies\")\n",
    "ax.set(ylabel=\"percentage\")\n",
    "ax.right_ax.set_ylabel(\"dollars\")\n",
    "plt.show()"
   ]
  },
  {
   "cell_type": "markdown",
   "metadata": {},
   "source": [
    "When using growth rate rather than raw production values as a metric, dairy production no longer seems to correlate with lobbies."
   ]
  },
  {
   "cell_type": "markdown",
   "metadata": {},
   "source": [
    "#### Dairy Production Growth Rate and Subsidies"
   ]
  },
  {
   "cell_type": "code",
   "execution_count": 10,
   "metadata": {},
   "outputs": [
    {
     "data": {
      "text/plain": [
       "<function matplotlib.pyplot.show(*args, **kw)>"
      ]
     },
     "execution_count": 10,
     "metadata": {},
     "output_type": "execute_result"
    },
    {
     "data": {
      "image/png": "[encoded data removed]",
      "text/plain": [
       "<Figure size 432x288 with 2 Axes>"
      ]
     },
     "metadata": {
      "needs_background": "light"
     },
     "output_type": "display_data"
    }
   ],
   "source": [
    "#plot the growth rate \n",
    "subsidies= all_funding.iloc[0:1]\n",
    "sampled_production = milk_production.iloc[18:41]\n",
    "\n",
    "ax = sampled_production.pct_change().plot(color = 'orange', label=\"Production growth\")\n",
    "ax2 = subsidies.sum().plot(secondary_y=True, color='blue', label=\"Subsidies\",xticks=subsidies.columns, rot='vertical')\n",
    "\n",
    "ax.legend([\"Production Growth\"], loc=2)\n",
    "ax2.legend(loc=1)\n",
    "plt.title(\"Dairy Production Growth and Subsidies\")\n",
    "ax.set(ylabel=\"percentage\")\n",
    "ax.right_ax.set_ylabel(\"dollars\")\n",
    "plt.show"
   ]
  },
  {
   "cell_type": "markdown",
   "metadata": {},
   "source": [
    "Looking at this figure, we see a slight correlation between the annual growth rate of dairy production and subsidies, but not enough to suspect causation. "
   ]
  },
  {
   "cell_type": "markdown",
   "metadata": {},
   "source": [
    "#### Congress Division\n"
   ]
  },
  {
   "cell_type": "markdown",
   "metadata": {},
   "source": [
    "The following plot shows which political party holds the majority of elected officials in Congress at each year. When the line is above the x-axis, it is red, meaning that Republicans hold the majority; when the line is below the x-axis, it is blue, meaning that Democrats hold the majority"
   ]
  },
  {
   "cell_type": "code",
   "execution_count": 13,
   "metadata": {},
   "outputs": [
    {
     "name": "stderr",
     "output_type": "stream",
     "text": [
      "//anaconda3/lib/python3.7/site-packages/ipykernel_launcher.py:3: SettingWithCopyWarning: \n",
      "A value is trying to be set on a copy of a slice from a DataFrame.\n",
      "Try using .loc[row_indexer,col_indexer] = value instead\n",
      "\n",
      "See the caveats in the documentation: http://pandas.pydata.org/pandas-docs/stable/indexing.html#indexing-view-versus-copy\n",
      "  This is separate from the ipykernel package so we can avoid doing imports until\n"
     ]
    },
    {
     "data": {
      "text/plain": [
       "Text(0.5, 1.0, 'Congress Party Division')"
      ]
     },
     "execution_count": 13,
     "metadata": {},
     "output_type": "execute_result"
    },
    {
     "data": {
      "image/png": "[encoded data removed]",
      "text/plain": [
       "<Figure size 432x288 with 1 Axes>"
      ]
     },
     "metadata": {
      "needs_background": "light"
     },
     "output_type": "display_data"
    }
   ],
   "source": [
    "#plot congress division per year.\n",
    "division = senate_division_per_year[[\"Senate Democrats\", \"Senate Republicans\", 'HOR Republicans', \"HOR Democrats\"]]\n",
    "division['Division'] = division['Senate Republicans']+division['HOR Republicans'] - division['Senate Democrats']- division['HOR Democrats']\n",
    "ax1 = division['Division'].plot(color=(division['Division'] > 0).map({True: 'r', False: 'b'}), kind ='bar')\n",
    "\n",
    "ax1.set(ylabel=\"People\", xlabel = 'Year')\n",
    "plt.title(\"Congress Party Division\")"
   ]
  },
  {
   "cell_type": "code",
   "execution_count": 16,
   "metadata": {},
   "outputs": [
    {
     "data": {
      "image/png": "[encoded data removed]",
      "text/plain": [
       "<Figure size 432x288 with 2 Axes>"
      ]
     },
     "metadata": {
      "needs_background": "light"
     },
     "output_type": "display_data"
    }
   ],
   "source": [
    "df1 = all_funding.iloc[[2]]\n",
    "df2 = division[['Division']].iloc[11:33].T\n",
    "df3 = df1.append(df2)\n",
    "df3 = df3.T.reset_index()\n",
    "df3 = df3.rename(columns={\"index\": \"year\"})\n",
    "\n",
    "ax = df3[['year', 'Total Lobbies']].plot(x='year', color='g', use_index=False)\n",
    "ax2 = df3[['year', 'Division']].plot(secondary_y=True, x='year', kind='bar', color=[np.where(df3[\"Division\"]>0, 'r', 'b')], ax=ax)\n",
    "ax.legend(loc = 3)\n",
    "ax2.legend(loc = 4)\n",
    "ax.set(ylabel=\"dollars\")\n",
    "ax.right_ax.set_ylabel(\"people\")\n",
    "plt.title(\"Congress Division and Total Lobbies\")\n",
    "plt.show()"
   ]
  },
  {
   "cell_type": "markdown",
   "metadata": {},
   "source": [
    "This plot actually seems counterintuitive to our hypothesis as the growth rate for lobbies grows the most steeply during and immediately after a Democrat-majority Congress and falls again when Republicans take the majority again."
   ]
  },
  {
   "cell_type": "code",
   "execution_count": 17,
   "metadata": {},
   "outputs": [
    {
     "data": {
      "image/png": "[encoded data removed]",
      "text/plain": [
       "<Figure size 432x288 with 2 Axes>"
      ]
     },
     "metadata": {
      "needs_background": "light"
     },
     "output_type": "display_data"
    }
   ],
   "source": [
    "df1 = pd.DataFrame(all_funding.iloc[[0, 1]].sum())\n",
    "df1 = df1.T\n",
    "df2 = division[['Division']].iloc[11:33].T\n",
    "df3 = df1.append(df2)\n",
    "df3 = df3.T.reset_index()\n",
    "df3 = df3.rename(columns={0: \"Subsidies\", \"index\": \"year\"})\n",
    "\n",
    "ax = df3[['year', 'Subsidies']].plot(x='year', color='g', use_index=False)\n",
    "ax2 = df3[['year', 'Division']].plot(secondary_y=True, x='year', kind='bar',  xticks=df3['year'], color=[np.where(df3[\"Division\"]>0, 'r', 'b')], ax=ax)\n",
    "ax.legend(loc = 3)\n",
    "ax2.legend(loc = 4)\n",
    "ax.set(ylabel=\"dollars\")\n",
    "ax.right_ax.set_ylabel(\"people\")\n",
    "plt.title(\"Congress Division and Total Subsidies\")\n",
    "plt.show()"
   ]
  },
  {
   "cell_type": "markdown",
   "metadata": {},
   "source": [
    "This plot is difficult to interpret because of the nature of the data retrieved from the USDA. The two subsidy programs that the USDA provides data on are unpredictable and are not active every year within the timeframe we chose for this project."
   ]
  },
  {
   "cell_type": "code",
   "execution_count": 18,
   "metadata": {},
   "outputs": [
    {
     "data": {
      "image/png": "[encoded data removed]",
      "text/plain": [
       "<Figure size 432x288 with 2 Axes>"
      ]
     },
     "metadata": {
      "needs_background": "light"
     },
     "output_type": "display_data"
    }
   ],
   "source": [
    "df1 = milk_production.iloc[18:44].pct_change()\n",
    "df1 = df1.T\n",
    "df2 = division[['Division']].iloc[11:32].T\n",
    "df3 = df1.append(df2)\n",
    "df3 = df3.T.reset_index()\n",
    "df3 = df3.rename(columns={\"index\": \"year\",\"Milk production\": \"Growth Dairy Production\"})\n",
    "\n",
    "\n",
    "ax = df3[['year', 'Growth Dairy Production']].plot(x='year', color='g', use_index=False)\n",
    "ax2 = df3[['year', 'Division']].plot(secondary_y=True, x='year', kind='bar',xticks=df3['year'], color=[np.where(df3[\"Division\"]>0, 'r', 'b')], ax=ax)\n",
    "\n",
    "ax.legend(loc = 3)\n",
    "ax2.legend(loc = 4)\n",
    "ax.set(ylabel=\"percentage\")\n",
    "ax.right_ax.set_ylabel(\"people\")\n",
    "plt.title(\"Congress Division and Growth Dairy Production\")\n",
    "plt.show()"
   ]
  },
  {
   "cell_type": "markdown",
   "metadata": {},
   "source": [
    "This particular plot did match our hypothesis that a more Republican-heavy Congress would lead to increased dairy production as the dairy industry is more closely tied to the Republican party. The only exception is in 2001-2004 where the growth in dairy production spiked and dropped severely; more research would be required to find the cause for this."
   ]
  },
  {
   "cell_type": "code",
   "execution_count": null,
   "metadata": {},
   "outputs": [],
   "source": []
  },
  {
   "cell_type": "code",
   "execution_count": null,
   "metadata": {},
   "outputs": [],
   "source": []
  }
 ],
 "metadata": {
  "kernelspec": {
   "display_name": "Python 3",
   "language": "python",
   "name": "python3"
  },
  "language_info": {
   "codemirror_mode": {
    "name": "ipython",
    "version": 3
   },
   "file_extension": ".py",
   "mimetype": "text/x-python",
   "name": "python",
   "nbconvert_exporter": "python",
   "pygments_lexer": "ipython3",
   "version": "3.7.3"
  }
 },
 "nbformat": 4,
 "nbformat_minor": 2
}
