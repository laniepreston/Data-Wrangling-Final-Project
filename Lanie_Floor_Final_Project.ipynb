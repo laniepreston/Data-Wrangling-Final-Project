{
 "cells": [
  {
   "cell_type": "markdown",
   "metadata": {},
   "source": [
    "# Data Wrangling - Vrije Universiteit Amsterdam - January Intensive 2020 #"
   ]
  },
  {
   "cell_type": "markdown",
   "metadata": {},
   "source": [
    "Lanie Preston (VU Student Nr: 2629403)\n",
    "\n",
    "Floor Kouwenberg (VU Student Nr: 2618232)"
   ]
  },
  {
   "cell_type": "code",
   "execution_count": null,
   "metadata": {},
   "outputs": [],
   "source": [
    "#read in libraries\n",
    "import numpy as np\n",
    "import pandas as pd\n",
    "import matplotlib.pyplot as plt\n",
    "import requests\n",
    "from matplotlib.ticker import FormatStrFormatter"
   ]
  },
  {
   "cell_type": "markdown",
   "metadata": {},
   "source": [
    "## Data Retrieval"
   ]
  },
  {
   "cell_type": "markdown",
   "metadata": {},
   "source": [
    "We will first import all the necessary datesets. We could get some of the datasets by downloading them from websites. However, other datasets got imported via their URL. Below we will import four datasets:\n",
    " * The US dairy production per year\n",
    " * The party division per year of the United States Congress\n",
    " * The dollar amount of subsidies given to dairy farmers per year by the US government\n",
    " * The dollar amount of lobbies from the dairy industry given to US politicians per year"
   ]
  },
  {
   "cell_type": "markdown",
   "metadata": {},
   "source": [
    "### Annual Dairy Production ## "
   ]
  },
  {
   "cell_type": "markdown",
   "metadata": {},
   "source": [
    "In this section, we read in data from the USDA corresponding with the annual level of per capita milk production in the United Sates to examine how the American dairy industry has grown or shrunk over time. "
   ]
  },
  {
   "cell_type": "code",
   "execution_count": null,
   "metadata": {},
   "outputs": [],
   "source": [
    "us_dairy_production = pd.read_excel('annualmilkprodfactors.xlsx', index_col=0)\n",
    "us_dairy_production = us_dairy_production.dropna(axis=0)\n",
    "milk_production =  us_dairy_production[['Milk production']]"
   ]
  },
  {
   "cell_type": "markdown",
   "metadata": {},
   "source": [
    "### Party Divisions in Congress ##"
   ]
  },
  {
   "cell_type": "markdown",
   "metadata": {},
   "source": [
    "In this section, we read in data on how many Republicans and Democrats were in Congress per year to find the relative percentages of each party. "
   ]
  },
  {
   "cell_type": "code",
   "execution_count": null,
   "metadata": {},
   "outputs": [],
   "source": [
    "senate_division = pd.read_html(\"https://en.wikipedia.org/wiki/Party_divisions_of_United_States_Congresses\")[0].iloc[1100:1117]\n",
    "\n",
    "#Selecting the right columns from the table. Also renaming the columns and removing the multi-index\n",
    "senate_division = senate_division[[\"Years\",\"Senate\",\"Unnamed: 8_level_0\", \"House of Representatives\"]]\n",
    "senate_division.columns = senate_division.columns.droplevel(0)\n",
    "senate_division = senate_division.drop(['Others', 'Vacancies', \"Anti-Admin\", \"Pro-Admin\", \"Pro-Admin[3]\"], axis=1)\n",
    "senate_division.columns.values[1] = \"Senate Democrats\"\n",
    "senate_division.rename({\"Anti-Admin[2]\": \"Senate Republicans\", \"Unnamed: 8_level_1\": \"HOR Democrats\", \"Total\": \"HOR Republicans\"}, axis='columns', inplace=True)\n",
    "\n",
    "#Casting the values as integers\n",
    "senate_division[\"Senate Democrats\"] = senate_division[\"Senate Democrats\"].astype(str).str[0:2].astype(int)\n",
    "senate_division[\"Senate Republicans\"] = senate_division[\"Senate Republicans\"].astype(str).str[0:2].astype(int)\n",
    "senate_division[\"HOR Democrats\"] = senate_division[\"HOR Democrats\"].astype(str).str[0:3].astype(int)\n",
    "senate_division[\"HOR Republicans\"] = senate_division[\"HOR Republicans\"].astype(str).str[0:3].astype(int)\n",
    "senate_division = senate_division.set_index(\"Years\")\n",
    "\n",
    "senate_division_per_year = pd.DataFrame(index=[], columns=senate_division.columns)\n",
    "\n",
    "#Creating an annual table that states the division per year\n",
    "for index, row in senate_division.iterrows():\n",
    "    row.name = int(index.split(\"–\")[0])\n",
    "    senate_division_per_year = senate_division_per_year.append(row)\n",
    "    row.name = row.name+1\n",
    "    senate_division_per_year = senate_division_per_year.append(row)\n",
    "    \n",
    "senate_division_per_year = senate_division_per_year.fillna(0)\n",
    "senate_division_per_year"
   ]
  },
  {
   "cell_type": "markdown",
   "metadata": {},
   "source": [
    "### Subsidies to Dairy Farmers ##"
   ]
  },
  {
   "cell_type": "markdown",
   "metadata": {},
   "source": [
    "In this file we read in the dollar amount of annual subsidies paid from the US government to dairy farmers via two federal programs: Milk Income Loss Payments, which compensates farmers when milk prices drop below the price of milk in Boston, and the Dairy Margin Coverage Program, an opt-in program to compensate farmers whenever the price of milk falls below a farmer-specified level."
   ]
  },
  {
   "cell_type": "code",
   "execution_count": null,
   "metadata": {},
   "outputs": [],
   "source": [
    "#read in separate excel files \n",
    "payouts2010 = pd.read_excel('GP_PaymentsUSA2010.xlsx')\n",
    "payouts2000 = pd.read_excel('GP_PaymentsUSA2000.xlsx')\n",
    "payouts1990 = pd.read_excel('GP_PaymentsUSA1990.xlsx')\n",
    "\n",
    "#give all dfs sensible column names \n",
    "def clean_df(df):\n",
    "    if 'Unnamed: 4' in list(df):\n",
    "        del df['Unnamed: 4']\n",
    "    df.rename(columns= {'Unnamed: 0': 'Program'}, inplace=True)\n",
    "    df.rename(columns= {'United States': 'Program'}, inplace=True)\n",
    "    return df\n",
    "\n",
    "#clean all dataframes for merging \n",
    "payouts1990 = clean_df(payouts1990)\n",
    "payouts2000 = clean_df(payouts2000)\n",
    "payouts2010 = clean_df(payouts2010)\n",
    "\n",
    "\n",
    "#mergint the payouts of all years\n",
    "payouts_early = pd.merge(payouts1990, payouts2000, how='outer')\n",
    "payouts_early = payouts_early.drop([1990, 1991, 1992, 1993, 1994, 1995, 1996, 1997], axis=1)\n",
    "all_payouts = pd.merge(payouts_early, payouts2010, how='outer')\n",
    "\n",
    "#Find all payouts that are related to the dairy industry\n",
    "search_values = ['dairy','milk']\n",
    "dairy_payouts = all_payouts[all_payouts['Program'].str.contains('|'.join(search_values),  na=False, case=False)]\n",
    "dairy_payouts = dairy_payouts.set_index('Program')\n",
    "dairy_payouts.columns = dairy_payouts.columns.map(int)\n",
    "dairy_payouts = dairy_payouts.fillna(0)\n",
    "dairy_payouts"
   ]
  },
  {
   "cell_type": "markdown",
   "metadata": {},
   "source": [
    "### Lobbies Paid to US Politicians by the Dairy Industry"
   ]
  },
  {
   "cell_type": "markdown",
   "metadata": {},
   "source": [
    "Here we read in data on the dollar amount of lobbies, which are legal bribes paid by major industries such as pharmaceuticals and agriculture indirectly to US politicians. Lobbies are received by both Democrats and Republicans, but Republicans are statistically more often recipients of said bribes."
   ]
  },
  {
   "cell_type": "code",
   "execution_count": null,
   "metadata": {},
   "outputs": [],
   "source": [
    "lobbies = pd.read_excel(\"AnnualLobyingOnDairy.xlsx\", index_cols=0)\n",
    "#discrepancy between lobbies to republicans + democrats and total lobbies is because small lobbies \n",
    "#are given to independent parties\n",
    "lobbies_final = lobbies.pivot_table(columns='Year')\n",
    "#replace non-existant values with mean\n",
    "lobbies_final = lobbies_final.fillna(lobbies_final.mean())\n",
    "lobbies_final"
   ]
  },
  {
   "cell_type": "code",
   "execution_count": null,
   "metadata": {},
   "outputs": [],
   "source": [
    "#Creating a table that contains the both lobbies and subsidies per year\n",
    "all_funding = dairy_payouts.append(lobbies_final)\n",
    "all_funding = all_funding.fillna(0)\n",
    "all_funding"
   ]
  },
  {
   "cell_type": "markdown",
   "metadata": {},
   "source": [
    "## Data Visualization"
   ]
  },
  {
   "cell_type": "markdown",
   "metadata": {},
   "source": [
    "#### Milk Production and Lobbies"
   ]
  },
  {
   "cell_type": "code",
   "execution_count": null,
   "metadata": {},
   "outputs": [],
   "source": [
    "#isolate lobbies from funding dataframe\n",
    "lobbies = all_funding.iloc[4]\n",
    "\n",
    "#collect milk production data from  year and from the correct timeframe\n",
    "sampled_production = milk_production.iloc[18:44]\n",
    "\n",
    "#plot milk production and lobbies to Republicans on the same graph to see how they correlate \n",
    "ax1 = sampled_production.plot(color = 'orange', label=\"Dairy production\", rot=\"vertical\")\n",
    "ax2 = lobbies.plot(secondary_y=True, color='blue', label=\"Lobbies\", rot='vertical', xticks=lobbies.index)\n",
    "\n",
    "ax1.legend([\"Dairy Production\"], loc=3)\n",
    "ax2.legend(loc=4)\n",
    "ax1.set(ylabel=\"million pounds\")\n",
    "ax1.right_ax.set_ylabel(\"dollars\")\n",
    "plt.title(\"Dairy Production and Lobbies\")\n",
    "plt.show"
   ]
  },
  {
   "cell_type": "markdown",
   "metadata": {},
   "source": [
    "There is an identifiable correlation between annual dairy production in pounds and annual dollars spent on lobbies. This suggests that these lobbies successfully ensure laws are enacted that significantly aid dairy farmers, either financially or through a lack of industry regulation."
   ]
  },
  {
   "cell_type": "markdown",
   "metadata": {},
   "source": [
    "#### Milk Production and Subsidies"
   ]
  },
  {
   "cell_type": "code",
   "execution_count": null,
   "metadata": {},
   "outputs": [],
   "source": [
    "#select correct rows from government funding dataframe\n",
    "subsidies= all_funding.iloc[0:2]\n",
    "\n",
    "#select proper years from milk production dataframe\n",
    "sampled_production = milk_production.iloc[18:41]\n",
    "\n",
    "#plot milk production and Government Payouts to the Dairy Industry to see if they correlate \n",
    "ax1 = sampled_production.plot(color = 'orange', label=\"Dairy production\", rot='vertical')\n",
    "ax2 = subsidies.sum().plot(secondary_y=True, color='blue', label=\"Subsidies\", xticks=lobbies.index, rot='vertical')\n",
    "\n",
    "ax2.legend(loc=1)\n",
    "ax1.legend([\"Dairy Production\"], loc=2)\n",
    "ax1.set(ylabel=\"million pounds\")\n",
    "ax1.right_ax.set_ylabel(\"dollars\")\n",
    "plt.title(\"Dairy Production and Subsidies\")\n",
    "plt.show"
   ]
  },
  {
   "cell_type": "markdown",
   "metadata": {},
   "source": [
    "#### Dairy Production Growth Rate and Lobbies"
   ]
  },
  {
   "cell_type": "code",
   "execution_count": null,
   "metadata": {},
   "outputs": [],
   "source": [
    "#Plot the growth of the milk industry versus dollar amounts of lobbies to the dairy industry per year.\n",
    "production_growth = milk_production.iloc[18:42].pct_change()\n",
    "\n",
    "ax = production_growth.plot(color = 'orange', label=\"Production Growth\")\n",
    "ax2 = lobbies.plot(secondary_y=True, color='blue', label=\"Lobbies\", ax = ax, xticks=lobbies.index, rot='vertical')\n",
    "\n",
    "ax.legend([\"Production Growth\"], loc=2)\n",
    "ax.xaxis.set_ticks(sampled_production.index, 90)\n",
    "ax2.legend(loc=1)\n",
    "plt.title(\"Dairy Production Growth and Lobbies\")\n",
    "ax.set(ylabel=\"percentage\")\n",
    "ax.right_ax.set_ylabel(\"dollars\")\n",
    "plt.show()"
   ]
  },
  {
   "cell_type": "markdown",
   "metadata": {},
   "source": [
    "#### Dairy Production Growth Rate and Subsidies"
   ]
  },
  {
   "cell_type": "code",
   "execution_count": null,
   "metadata": {},
   "outputs": [],
   "source": [
    "#plot the growth rate \n",
    "subsidies= all_funding.iloc[0:2]\n",
    "sampled_production = milk_production.iloc[18:41]\n",
    "\n",
    "ax = sampled_production.pct_change().plot(color = 'orange', label=\"Production growth\")\n",
    "ax2 = subsidies.sum().plot(secondary_y=True, color='blue', label=\"Subsidies\",xticks=subsidies.columns, rot='vertical')\n",
    "\n",
    "ax.legend([\"Production Growth\"], loc=2)\n",
    "ax2.legend(loc=1)\n",
    "plt.title(\"Dairy Production Growth and Subsidies\")\n",
    "ax.set(ylabel=\"percentage\")\n",
    "ax.right_ax.set_ylabel(\"dollars\")\n",
    "plt.show"
   ]
  },
  {
   "cell_type": "markdown",
   "metadata": {},
   "source": [
    "We see a slight correlation between the annual growth rate of dairy production and subsidies, but not enough to suspect causation."
   ]
  },
  {
   "cell_type": "markdown",
   "metadata": {},
   "source": [
    "#### Congress Division\n"
   ]
  },
  {
   "cell_type": "code",
   "execution_count": null,
   "metadata": {},
   "outputs": [],
   "source": [
    "#plot congress division per year. When the line is above the x-axis/red, Republicans hold the majority; \n",
    "#when the line is below the x-axis/is blue, Democrats hold the majority\n",
    "division = senate_division_per_year[[\"Senate Democrats\", \"Senate Republicans\", 'HOR Republicans', \"HOR Democrats\"]]\n",
    "division['Division'] = division['Senate Republicans']+division['HOR Republicans'] - division['Senate Democrats']- division['HOR Democrats']\n",
    "ax1 = division['Division'].plot(color=(division['Division'] > 0).map({True: 'r', False: 'b'}), kind ='bar')\n",
    "\n",
    "ax1.set(ylabel=\"People\", xlabel = 'Year')\n",
    "plt.title(\"Congress Party Division\")"
   ]
  },
  {
   "cell_type": "code",
   "execution_count": null,
   "metadata": {},
   "outputs": [],
   "source": [
    "df1 = all_funding.iloc[[4]]\n",
    "df2 = division[['Division']].iloc[11:33].T\n",
    "df3 = df1.append(df2)\n",
    "df3 = df3.T.reset_index()\n",
    "df3 = df3.rename(columns={\"index\": \"year\"})\n",
    "\n",
    "ax = df3[['year', 'Total Lobbies']].plot(x='year', color='g', use_index=False)\n",
    "ax2 = df3[['year', 'Division']].plot(secondary_y=True, x='year', kind='bar', color=[np.where(df3[\"Division\"]>0, 'r', 'b')], ax=ax)\n",
    "ax.legend(loc = 3)\n",
    "ax2.legend(loc = 4)\n",
    "ax.set(ylabel=\"dollars\")\n",
    "ax.right_ax.set_ylabel(\"people\")\n",
    "plt.title(\"Congress Division and Total Lobbies\")\n",
    "plt.show()"
   ]
  },
  {
   "cell_type": "code",
   "execution_count": null,
   "metadata": {},
   "outputs": [],
   "source": [
    "df1 = pd.DataFrame(all_funding.iloc[[0, 1]].sum())\n",
    "df1 = df1.T\n",
    "df2 = division[['Division']].iloc[11:33].T\n",
    "df3 = df1.append(df2)\n",
    "df3 = df3.T.reset_index()\n",
    "df3 = df3.rename(columns={0: \"Subsidies\", \"index\": \"year\"})\n",
    "\n",
    "ax = df3[['year', 'Subsidies']].plot(x='year', color='g', use_index=False)\n",
    "ax2 = df3[['year', 'Division']].plot(secondary_y=True, x='year', kind='bar',  xticks=df3['year'], color=[np.where(df3[\"Division\"]>0, 'r', 'b')], ax=ax)\n",
    "ax.legend(loc = 3)\n",
    "ax2.legend(loc = 4)\n",
    "ax.set(ylabel=\"dollars\")\n",
    "ax.right_ax.set_ylabel(\"people\")\n",
    "plt.title(\"Congress Division and Total Subsidies\")\n",
    "plt.show()"
   ]
  },
  {
   "cell_type": "markdown",
   "metadata": {},
   "source": [
    "This plot is difficult to interpret because of the nature of the data retrieved from the USDA. The two subsidy programs that the USDA provides data on are unpredictable and are not active every year within the timeframe we chose for this project."
   ]
  },
  {
   "cell_type": "code",
   "execution_count": null,
   "metadata": {},
   "outputs": [],
   "source": [
    "df1 = milk_production.iloc[18:44].pct_change()\n",
    "df1 = df1.T\n",
    "df2 = division[['Division']].iloc[11:32].T\n",
    "df3 = df1.append(df2)\n",
    "df3 = df3.T.reset_index()\n",
    "df3 = df3.rename(columns={\"index\": \"year\",\"Milk production\": \"Growth Dairy Production\"})\n",
    "\n",
    "\n",
    "ax = df3[['year', 'Growth Dairy Production']].plot(x='year', color='g', use_index=False)\n",
    "ax2 = df3[['year', 'Division']].plot(secondary_y=True, x='year', kind='bar',xticks=df3['year'], color=[np.where(df3[\"Division\"]>0, 'r', 'b')], ax=ax)\n",
    "\n",
    "ax.legend(loc = 3)\n",
    "ax2.legend(loc = 4)\n",
    "ax.set(ylabel=\"percentage\")\n",
    "ax.right_ax.set_ylabel(\"people\")\n",
    "plt.title(\"Congress Division and Growth Dairy Production\")\n",
    "plt.show()"
   ]
  },
  {
   "cell_type": "markdown",
   "metadata": {},
   "source": [
    "This particular plot did match our hypothesis that a more Republican-heavy Congress would lead to increased dairy production as the dairy industry is more closely tied to the Republican party. The only exception is in 2001-2004 where the growth in dairy production spiked and dropped severely; more research would be required to find the cause for this."
   ]
  },
  {
   "cell_type": "code",
   "execution_count": null,
   "metadata": {},
   "outputs": [],
   "source": []
  }
 ],
 "metadata": {
  "kernelspec": {
   "display_name": "Python 3",
   "language": "python",
   "name": "python3"
  },
  "language_info": {
   "codemirror_mode": {
    "name": "ipython",
    "version": 3
   },
   "file_extension": ".py",
   "mimetype": "text/x-python",
   "name": "python",
   "nbconvert_exporter": "python",
   "pygments_lexer": "ipython3",
   "version": "3.7.3"
  }
 },
 "nbformat": 4,
 "nbformat_minor": 2
}
